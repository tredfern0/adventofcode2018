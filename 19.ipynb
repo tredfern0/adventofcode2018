{
 "cells": [
  {
   "cell_type": "code",
   "execution_count": 1,
   "metadata": {
    "collapsed": true
   },
   "outputs": [],
   "source": [
    "def get_data():\n",
    "    with open(\"input19.txt\", \"r\") as f:\n",
    "        data = f.read().strip()\n",
    "    data = data.split(\"\\n\")\n",
    "    return data"
   ]
  },
  {
   "cell_type": "code",
   "execution_count": 2,
   "metadata": {
    "collapsed": true
   },
   "outputs": [],
   "source": [
    "import copy"
   ]
  },
  {
   "cell_type": "code",
   "execution_count": 3,
   "metadata": {
    "collapsed": true
   },
   "outputs": [],
   "source": [
    "def addr(registers, a, b, c):\n",
    "    reg = copy.copy(registers)\n",
    "    reg[c] = reg[a]+reg[b]\n",
    "    return reg\n",
    "\n",
    "def addi(registers, a, b, c):\n",
    "    reg = copy.copy(registers)\n",
    "    reg[c] = reg[a]+b\n",
    "    return reg\n",
    "\n",
    "def mulr(registers, a, b, c):\n",
    "    reg = copy.copy(registers)\n",
    "    reg[c] = reg[a]*reg[b]\n",
    "    return reg\n",
    "\n",
    "def muli(registers, a, b, c):\n",
    "    reg = copy.copy(registers)\n",
    "    reg[c] = reg[a]*b\n",
    "    return reg\n",
    "\n",
    "def banr(registers, a, b, c):\n",
    "    reg = copy.copy(registers)\n",
    "    reg[c] = reg[a]&reg[b]\n",
    "    return reg\n",
    "\n",
    "def bani(registers, a, b, c):\n",
    "    reg = copy.copy(registers)\n",
    "    reg[c] = reg[a]&b\n",
    "    return reg\n",
    "    \n",
    "def borr(registers, a, b, c):\n",
    "    reg = copy.copy(registers)\n",
    "    reg[c] = reg[a]|reg[b]\n",
    "    return reg\n",
    "\n",
    "def bori(registers, a, b, c):\n",
    "    reg = copy.copy(registers)\n",
    "    reg[c] = reg[a]|b\n",
    "    return reg\n",
    "    \n",
    "def setr(registers, a, b, c):\n",
    "    reg = copy.copy(registers)\n",
    "    reg[c] = reg[a]\n",
    "    return reg\n",
    "    \n",
    "def seti(registers, a, b, c):\n",
    "    reg = copy.copy(registers)\n",
    "    reg[c] = a\n",
    "    return reg\n",
    "    \n",
    "def gtir(registers, a, b, c):\n",
    "    reg = copy.copy(registers)\n",
    "    reg[c] = 1 if a>reg[b] else 0\n",
    "    return reg\n",
    "\n",
    "def gtri(registers, a, b, c):\n",
    "    reg = copy.copy(registers)\n",
    "    reg[c] = 1 if reg[a]>b else 0\n",
    "    return reg\n",
    "\n",
    "def gtrr(registers, a, b, c):\n",
    "    reg = copy.copy(registers)\n",
    "    reg[c] = 1 if reg[a]>reg[b] else 0\n",
    "    return reg\n",
    "\n",
    "def eqir(registers, a, b, c):\n",
    "    reg = copy.copy(registers)\n",
    "    reg[c] = 1 if a==reg[b] else 0\n",
    "    return reg\n",
    "\n",
    "def eqri(registers, a, b, c):\n",
    "    reg = copy.copy(registers)\n",
    "    reg[c] = 1 if reg[a]==b else 0\n",
    "    return reg\n",
    "\n",
    "def eqrr(registers, a, b, c):\n",
    "    reg = copy.copy(registers)\n",
    "    reg[c] = 1 if reg[a]==reg[b] else 0\n",
    "    return reg"
   ]
  },
  {
   "cell_type": "code",
   "execution_count": 4,
   "metadata": {
    "collapsed": true
   },
   "outputs": [],
   "source": [
    "func_dict = {\n",
    "\"addr\":addr,\n",
    "\"addi\":addi,\n",
    "\"mulr\":mulr,\n",
    "\"muli\":muli,\n",
    "\"banr\":banr,\n",
    "\"bani\":bani,\n",
    "\"borr\":borr,\n",
    "\"bori\":bori,\n",
    "\"setr\":setr,\n",
    "\"seti\":seti,\n",
    "\"gtir\":gtir,\n",
    "\"gtri\":gtri,\n",
    "\"gtrr\":gtrr,\n",
    "\"eqir\":eqir,\n",
    "\"eqri\":eqri,\n",
    "\"eqrr\":eqrr,\n",
    "}"
   ]
  },
  {
   "cell_type": "code",
   "execution_count": 6,
   "metadata": {},
   "outputs": [
    {
     "name": "stdout",
     "output_type": "stream",
     "text": [
      "948\n"
     ]
    }
   ],
   "source": [
    "data = get_data()\n",
    "\n",
    "registers = [0,0,0,0,0,0]\n",
    "instr = data[1:]\n",
    "ip = int(data[0].split()[1])\n",
    "\n",
    "for _ in range(10000000):\n",
    "    try:\n",
    "        cmd = instr[registers[ip]].split()\n",
    "        func = cmd[0]\n",
    "        a,b,c = list(map(int,cmd[1:]))\n",
    "        registers = func_dict[func](registers, a,b,c)\n",
    "        registers[ip]+=1\n",
    "    except:\n",
    "        print(registers[0])\n",
    "        break"
   ]
  },
  {
   "cell_type": "code",
   "execution_count": null,
   "metadata": {
    "collapsed": true
   },
   "outputs": [],
   "source": []
  },
  {
   "cell_type": "code",
   "execution_count": 7,
   "metadata": {},
   "outputs": [
    {
     "name": "stdout",
     "output_type": "stream",
     "text": [
      "3 ['mulr', '1', '5', '2'] [0, 1, 0, 3, 10551347, 12486]\n",
      "4 ['eqrr', '2', '4', '2'] [0, 1, 12486, 4, 10551347, 12486]\n",
      "5 ['addr', '2', '3', '3'] [0, 1, 0, 5, 10551347, 12486]\n",
      "6 ['addi', '3', '1', '3'] [0, 1, 0, 6, 10551347, 12486]\n",
      "8 ['addi', '5', '1', '5'] [0, 1, 0, 8, 10551347, 12486]\n",
      "9 ['gtrr', '5', '4', '2'] [0, 1, 0, 9, 10551347, 12487]\n",
      "10 ['addr', '3', '2', '3'] [0, 1, 0, 10, 10551347, 12487]\n",
      "11 ['seti', '2', '4', '3'] [0, 1, 0, 11, 10551347, 12487]\n",
      "3 ['mulr', '1', '5', '2'] [0, 1, 0, 3, 10551347, 12487]\n",
      "4 ['eqrr', '2', '4', '2'] [0, 1, 12487, 4, 10551347, 12487]\n",
      "5 ['addr', '2', '3', '3'] [0, 1, 0, 5, 10551347, 12487]\n",
      "6 ['addi', '3', '1', '3'] [0, 1, 0, 6, 10551347, 12487]\n",
      "8 ['addi', '5', '1', '5'] [0, 1, 0, 8, 10551347, 12487]\n",
      "9 ['gtrr', '5', '4', '2'] [0, 1, 0, 9, 10551347, 12488]\n",
      "10 ['addr', '3', '2', '3'] [0, 1, 0, 10, 10551347, 12488]\n",
      "11 ['seti', '2', '4', '3'] [0, 1, 0, 11, 10551347, 12488]\n",
      "3 ['mulr', '1', '5', '2'] [0, 1, 0, 3, 10551347, 12488]\n",
      "4 ['eqrr', '2', '4', '2'] [0, 1, 12488, 4, 10551347, 12488]\n",
      "5 ['addr', '2', '3', '3'] [0, 1, 0, 5, 10551347, 12488]\n",
      "6 ['addi', '3', '1', '3'] [0, 1, 0, 6, 10551347, 12488]\n",
      "8 ['addi', '5', '1', '5'] [0, 1, 0, 8, 10551347, 12488]\n",
      "9 ['gtrr', '5', '4', '2'] [0, 1, 0, 9, 10551347, 12489]\n",
      "10 ['addr', '3', '2', '3'] [0, 1, 0, 10, 10551347, 12489]\n",
      "11 ['seti', '2', '4', '3'] [0, 1, 0, 11, 10551347, 12489]\n",
      "3 ['mulr', '1', '5', '2'] [0, 1, 0, 3, 10551347, 12489]\n",
      "4 ['eqrr', '2', '4', '2'] [0, 1, 12489, 4, 10551347, 12489]\n",
      "5 ['addr', '2', '3', '3'] [0, 1, 0, 5, 10551347, 12489]\n",
      "6 ['addi', '3', '1', '3'] [0, 1, 0, 6, 10551347, 12489]\n",
      "8 ['addi', '5', '1', '5'] [0, 1, 0, 8, 10551347, 12489]\n",
      "9 ['gtrr', '5', '4', '2'] [0, 1, 0, 9, 10551347, 12490]\n",
      "10 ['addr', '3', '2', '3'] [0, 1, 0, 10, 10551347, 12490]\n",
      "11 ['seti', '2', '4', '3'] [0, 1, 0, 11, 10551347, 12490]\n",
      "3 ['mulr', '1', '5', '2'] [0, 1, 0, 3, 10551347, 12490]\n",
      "4 ['eqrr', '2', '4', '2'] [0, 1, 12490, 4, 10551347, 12490]\n",
      "5 ['addr', '2', '3', '3'] [0, 1, 0, 5, 10551347, 12490]\n",
      "6 ['addi', '3', '1', '3'] [0, 1, 0, 6, 10551347, 12490]\n",
      "8 ['addi', '5', '1', '5'] [0, 1, 0, 8, 10551347, 12490]\n",
      "9 ['gtrr', '5', '4', '2'] [0, 1, 0, 9, 10551347, 12491]\n",
      "10 ['addr', '3', '2', '3'] [0, 1, 0, 10, 10551347, 12491]\n",
      "11 ['seti', '2', '4', '3'] [0, 1, 0, 11, 10551347, 12491]\n",
      "3 ['mulr', '1', '5', '2'] [0, 1, 0, 3, 10551347, 12491]\n",
      "4 ['eqrr', '2', '4', '2'] [0, 1, 12491, 4, 10551347, 12491]\n",
      "5 ['addr', '2', '3', '3'] [0, 1, 0, 5, 10551347, 12491]\n",
      "6 ['addi', '3', '1', '3'] [0, 1, 0, 6, 10551347, 12491]\n",
      "8 ['addi', '5', '1', '5'] [0, 1, 0, 8, 10551347, 12491]\n",
      "9 ['gtrr', '5', '4', '2'] [0, 1, 0, 9, 10551347, 12492]\n",
      "10 ['addr', '3', '2', '3'] [0, 1, 0, 10, 10551347, 12492]\n",
      "11 ['seti', '2', '4', '3'] [0, 1, 0, 11, 10551347, 12492]\n",
      "3 ['mulr', '1', '5', '2'] [0, 1, 0, 3, 10551347, 12492]\n",
      "4 ['eqrr', '2', '4', '2'] [0, 1, 12492, 4, 10551347, 12492]\n",
      "5 ['addr', '2', '3', '3'] [0, 1, 0, 5, 10551347, 12492]\n",
      "6 ['addi', '3', '1', '3'] [0, 1, 0, 6, 10551347, 12492]\n",
      "8 ['addi', '5', '1', '5'] [0, 1, 0, 8, 10551347, 12492]\n",
      "9 ['gtrr', '5', '4', '2'] [0, 1, 0, 9, 10551347, 12493]\n",
      "10 ['addr', '3', '2', '3'] [0, 1, 0, 10, 10551347, 12493]\n",
      "11 ['seti', '2', '4', '3'] [0, 1, 0, 11, 10551347, 12493]\n",
      "3 ['mulr', '1', '5', '2'] [0, 1, 0, 3, 10551347, 12493]\n",
      "4 ['eqrr', '2', '4', '2'] [0, 1, 12493, 4, 10551347, 12493]\n",
      "5 ['addr', '2', '3', '3'] [0, 1, 0, 5, 10551347, 12493]\n",
      "6 ['addi', '3', '1', '3'] [0, 1, 0, 6, 10551347, 12493]\n",
      "8 ['addi', '5', '1', '5'] [0, 1, 0, 8, 10551347, 12493]\n",
      "9 ['gtrr', '5', '4', '2'] [0, 1, 0, 9, 10551347, 12494]\n",
      "10 ['addr', '3', '2', '3'] [0, 1, 0, 10, 10551347, 12494]\n",
      "11 ['seti', '2', '4', '3'] [0, 1, 0, 11, 10551347, 12494]\n",
      "3 ['mulr', '1', '5', '2'] [0, 1, 0, 3, 10551347, 12494]\n",
      "4 ['eqrr', '2', '4', '2'] [0, 1, 12494, 4, 10551347, 12494]\n",
      "5 ['addr', '2', '3', '3'] [0, 1, 0, 5, 10551347, 12494]\n",
      "6 ['addi', '3', '1', '3'] [0, 1, 0, 6, 10551347, 12494]\n",
      "8 ['addi', '5', '1', '5'] [0, 1, 0, 8, 10551347, 12494]\n",
      "9 ['gtrr', '5', '4', '2'] [0, 1, 0, 9, 10551347, 12495]\n",
      "10 ['addr', '3', '2', '3'] [0, 1, 0, 10, 10551347, 12495]\n",
      "11 ['seti', '2', '4', '3'] [0, 1, 0, 11, 10551347, 12495]\n",
      "3 ['mulr', '1', '5', '2'] [0, 1, 0, 3, 10551347, 12495]\n",
      "4 ['eqrr', '2', '4', '2'] [0, 1, 12495, 4, 10551347, 12495]\n",
      "5 ['addr', '2', '3', '3'] [0, 1, 0, 5, 10551347, 12495]\n",
      "6 ['addi', '3', '1', '3'] [0, 1, 0, 6, 10551347, 12495]\n",
      "8 ['addi', '5', '1', '5'] [0, 1, 0, 8, 10551347, 12495]\n",
      "9 ['gtrr', '5', '4', '2'] [0, 1, 0, 9, 10551347, 12496]\n",
      "10 ['addr', '3', '2', '3'] [0, 1, 0, 10, 10551347, 12496]\n",
      "11 ['seti', '2', '4', '3'] [0, 1, 0, 11, 10551347, 12496]\n",
      "3 ['mulr', '1', '5', '2'] [0, 1, 0, 3, 10551347, 12496]\n",
      "4 ['eqrr', '2', '4', '2'] [0, 1, 12496, 4, 10551347, 12496]\n",
      "5 ['addr', '2', '3', '3'] [0, 1, 0, 5, 10551347, 12496]\n",
      "6 ['addi', '3', '1', '3'] [0, 1, 0, 6, 10551347, 12496]\n",
      "8 ['addi', '5', '1', '5'] [0, 1, 0, 8, 10551347, 12496]\n",
      "9 ['gtrr', '5', '4', '2'] [0, 1, 0, 9, 10551347, 12497]\n",
      "10 ['addr', '3', '2', '3'] [0, 1, 0, 10, 10551347, 12497]\n",
      "11 ['seti', '2', '4', '3'] [0, 1, 0, 11, 10551347, 12497]\n",
      "3 ['mulr', '1', '5', '2'] [0, 1, 0, 3, 10551347, 12497]\n",
      "4 ['eqrr', '2', '4', '2'] [0, 1, 12497, 4, 10551347, 12497]\n",
      "5 ['addr', '2', '3', '3'] [0, 1, 0, 5, 10551347, 12497]\n",
      "6 ['addi', '3', '1', '3'] [0, 1, 0, 6, 10551347, 12497]\n",
      "8 ['addi', '5', '1', '5'] [0, 1, 0, 8, 10551347, 12497]\n",
      "9 ['gtrr', '5', '4', '2'] [0, 1, 0, 9, 10551347, 12498]\n",
      "10 ['addr', '3', '2', '3'] [0, 1, 0, 10, 10551347, 12498]\n",
      "11 ['seti', '2', '4', '3'] [0, 1, 0, 11, 10551347, 12498]\n",
      "3 ['mulr', '1', '5', '2'] [0, 1, 0, 3, 10551347, 12498]\n",
      "4 ['eqrr', '2', '4', '2'] [0, 1, 12498, 4, 10551347, 12498]\n",
      "5 ['addr', '2', '3', '3'] [0, 1, 0, 5, 10551347, 12498]\n"
     ]
    }
   ],
   "source": [
    "data = get_data()\n",
    "\n",
    "registers = [1,0,0,0,0,0]\n",
    "instr = data[1:]\n",
    "ip = int(data[0].split()[1])\n",
    "\n",
    "for i in range(100000):\n",
    "    try:\n",
    "        cmd = instr[registers[ip]].split()\n",
    "        func = cmd[0]\n",
    "        if i>100000-100:\n",
    "            print(registers[ip], cmd, registers)\n",
    "        a,b,c = list(map(int,cmd[1:]))\n",
    "        registers = func_dict[func](registers, a,b,c)\n",
    "        registers[ip]+=1\n",
    "        \n",
    "    except:\n",
    "        print(registers[0])\n",
    "        break"
   ]
  },
  {
   "cell_type": "code",
   "execution_count": 8,
   "metadata": {},
   "outputs": [
    {
     "name": "stdout",
     "output_type": "stream",
     "text": [
      "0 addi 3 16 3\n",
      "1 seti 1 6 1\n",
      "2 seti 1 9 5\n",
      "3 mulr 1 5 2\n",
      "4 eqrr 2 4 2\n",
      "5 addr 2 3 3\n",
      "6 addi 3 1 3\n",
      "7 addr 1 0 0\n",
      "8 addi 5 1 5\n",
      "9 gtrr 5 4 2\n",
      "10 addr 3 2 3\n",
      "11 seti 2 4 3\n",
      "12 addi 1 1 1\n",
      "13 gtrr 1 4 2\n",
      "14 addr 2 3 3\n",
      "15 seti 1 0 3\n",
      "16 mulr 3 3 3\n",
      "17 addi 4 2 4\n",
      "18 mulr 4 4 4\n",
      "19 mulr 3 4 4\n",
      "20 muli 4 11 4\n",
      "21 addi 2 5 2\n",
      "22 mulr 2 3 2\n",
      "23 addi 2 1 2\n",
      "24 addr 4 2 4\n",
      "25 addr 3 0 3\n",
      "26 seti 0 3 3\n",
      "27 setr 3 6 2\n",
      "28 mulr 2 3 2\n",
      "29 addr 3 2 2\n",
      "30 mulr 3 2 2\n",
      "31 muli 2 14 2\n",
      "32 mulr 2 3 2\n",
      "33 addr 4 2 4\n",
      "34 seti 0 8 0\n",
      "35 seti 0 8 3\n"
     ]
    }
   ],
   "source": [
    "for dI,d in enumerate(data[1:]):\n",
    "    print(dI,d)"
   ]
  },
  {
   "cell_type": "code",
   "execution_count": null,
   "metadata": {},
   "outputs": [],
   "source": [
    "\"\"\"\n",
    "3 ['mulr', '1', '5', '2'] [0, 1, 0, 3, 10551347, 12496]      reg[2] = reg[1 * reg[5]\n",
    "4 ['eqrr', '2', '4', '2'] [0, 1, 12496, 4, 10551347, 12496]  reg[2] == 1 if reg[2]==reg[4] else 0\n",
    "5 ['addr', '2', '3', '3'] [0, 1, 0, 5, 10551347, 12496]      reg[3] += reg[2]\n",
    "6 ['addi', '3', '1', '3'] [0, 1, 0, 6, 10551347, 12496]      reg[3] += 1\n",
    "8 ['addi', '5', '1', '5'] [0, 1, 0, 8, 10551347, 12496]      reg[5] += 1\n",
    "9 ['gtrr', '5', '4', '2'] [0, 1, 0, 9, 10551347, 12497]      reg[2] = 1 if reg[5]>reg[4], else 0\n",
    "10 ['addr', '3', '2', '3'] [0, 1, 0, 10, 10551347, 12497]    reg[3] += reg[2]\n",
    "11 ['seti', '2', '4', '3'] [0, 1, 0, 11, 10551347, 12497]    reg[3] = 2\n",
    "\n",
    "If registers 2 and 4 are equal -\n",
    "7 addr 1 0 0  - register[0] += register[1]\n",
    "\n",
    "If reg[1]*reg[5]==reg[4], reg[0]+=reg[1]\n",
    "All factors of reg[4] will eventually be added to reg[0]\n",
    "\n",
    "If reg[5]>reg[4]\n",
    "12 ['addi', '1', '1', '1'] [948, 947, 1, 12, 947, 948]    reg[1]\n",
    "13 ['gtrr', '1', '4', '2'] [948, 948, 1, 13, 947, 948]    reg[2] = 1 if reg[1]>reg[4] else 0\n",
    "14 ['addr', '2', '3', '3'] [948, 948, 1, 14, 947, 948]    reg[3] = reg[2]+reg[3]\n",
    "16 ['mulr', '3', '3', '3'] [948, 948, 1, 16, 947, 948]    reg[3] = reg[3]*reg[3]\n",
    "                                                                          \n",
    "Once reg[1]>reg[4] we will halt, otherwise increment reg[1] and continue\n",
    "\"\"\"\n",
    "None"
   ]
  },
  {
   "cell_type": "code",
   "execution_count": 9,
   "metadata": {
    "collapsed": true
   },
   "outputs": [],
   "source": [
    "import math"
   ]
  },
  {
   "cell_type": "code",
   "execution_count": 12,
   "metadata": {},
   "outputs": [
    {
     "name": "stdout",
     "output_type": "stream",
     "text": [
      "10695960\n"
     ]
    }
   ],
   "source": [
    "tot = 0\n",
    "for i in range(1,int(math.sqrt(10551347))):\n",
    "    if 10551347%i==0:\n",
    "        tot+=i\n",
    "        tot+=10551347//i\n",
    "print(tot)"
   ]
  },
  {
   "cell_type": "code",
   "execution_count": null,
   "metadata": {
    "collapsed": true
   },
   "outputs": [],
   "source": []
  }
 ],
 "metadata": {
  "kernelspec": {
   "display_name": "Python 3",
   "language": "python",
   "name": "python3"
  },
  "language_info": {
   "codemirror_mode": {
    "name": "ipython",
    "version": 3
   },
   "file_extension": ".py",
   "mimetype": "text/x-python",
   "name": "python",
   "nbconvert_exporter": "python",
   "pygments_lexer": "ipython3",
   "version": "3.5.4"
  }
 },
 "nbformat": 4,
 "nbformat_minor": 2
}
