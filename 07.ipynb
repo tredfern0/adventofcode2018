{
 "cells": [
  {
   "cell_type": "code",
   "execution_count": 1,
   "metadata": {
    "collapsed": true
   },
   "outputs": [],
   "source": [
    "with open(\"input07.txt\",\"r\") as f:\n",
    "    data = f.read()"
   ]
  },
  {
   "cell_type": "code",
   "execution_count": 2,
   "metadata": {
    "collapsed": true
   },
   "outputs": [],
   "source": [
    "data = data.split(\"\\n\")[:-1]"
   ]
  },
  {
   "cell_type": "code",
   "execution_count": 3,
   "metadata": {
    "collapsed": false
   },
   "outputs": [
    {
     "name": "stdout",
     "output_type": "stream",
     "text": [
      "['Step W must be finished before step B can begin.', 'Step G must be finished before step T can begin.', 'Step B must be finished before step P can begin.']\n"
     ]
    }
   ],
   "source": [
    "print(data[:3])"
   ]
  },
  {
   "cell_type": "code",
   "execution_count": null,
   "metadata": {
    "collapsed": true
   },
   "outputs": [],
   "source": []
  },
  {
   "cell_type": "code",
   "execution_count": 4,
   "metadata": {
    "collapsed": false
   },
   "outputs": [],
   "source": [
    "import string\n",
    "adjacency = {x:[] for x in string.ascii_uppercase}\n",
    "for row in data:\n",
    "    row = row.split()\n",
    "    adjacency[row[7]].append(row[1])"
   ]
  },
  {
   "cell_type": "code",
   "execution_count": 5,
   "metadata": {
    "collapsed": false
   },
   "outputs": [
    {
     "name": "stdout",
     "output_type": "stream",
     "text": [
      "GKRVWBESYAMZDPTIUCFXQJLHNO\n"
     ]
    }
   ],
   "source": [
    "result = \"\"\n",
    "while len(result)<len(string.ascii_uppercase):\n",
    "    for letter in [x for x in string.ascii_uppercase if x not in result]:\n",
    "        if all([x in result for x in adjacency[letter]]):\n",
    "            result += letter\n",
    "            break\n",
    "print(result)"
   ]
  },
  {
   "cell_type": "code",
   "execution_count": null,
   "metadata": {
    "collapsed": true
   },
   "outputs": [],
   "source": []
  },
  {
   "cell_type": "code",
   "execution_count": 6,
   "metadata": {
    "collapsed": true
   },
   "outputs": [],
   "source": [
    "def get_task(adj, complete):\n",
    "    for l in sorted(adj.keys()):\n",
    "        if all([x in complete for x in adj[l]]):\n",
    "            return l\n",
    "\n",
    "def check_workers(workers, i):\n",
    "    completed = []\n",
    "    for w in [x for x in workers if workers[x]]:\n",
    "        if workers[w][\"start_t\"]+workers[w][\"task_len\"]<=i:\n",
    "            completed.append(workers[w][\"task\"])\n",
    "            workers[w] = {}\n",
    "    return workers, completed"
   ]
  },
  {
   "cell_type": "code",
   "execution_count": 7,
   "metadata": {
    "collapsed": false
   },
   "outputs": [
    {
     "name": "stdout",
     "output_type": "stream",
     "text": [
      "903\n"
     ]
    }
   ],
   "source": [
    "workers = {i:{} for i in range(5)}\n",
    "complete = []\n",
    "time = 0\n",
    "while True:\n",
    "    #Free up any workers who have just completed a task\n",
    "    workers, completed = check_workers(workers, time)\n",
    "    complete+=completed\n",
    "    \n",
    "    #Quit once all tasks are in the complete list\n",
    "    if len(complete)==len(string.ascii_uppercase):\n",
    "        break\n",
    "    \n",
    "    #Add available tasks to free workers\n",
    "    for w in [x for x in workers if not workers[x]]:\n",
    "        next_task = get_task(adjacency, complete)\n",
    "        if next_task:\n",
    "            del adjacency[next_task]\n",
    "            workers[w] = {\"task\":next_task,\n",
    "                          \"start_t\":time,\n",
    "                          \"task_len\":60+string.ascii_uppercase.index(next_task)+1}\n",
    "    time+=1\n",
    "print(time)"
   ]
  },
  {
   "cell_type": "code",
   "execution_count": null,
   "metadata": {
    "collapsed": true
   },
   "outputs": [],
   "source": []
  }
 ],
 "metadata": {
  "kernelspec": {
   "display_name": "Python 3",
   "language": "python",
   "name": "python3"
  },
  "language_info": {
   "codemirror_mode": {
    "name": "ipython",
    "version": 3
   },
   "file_extension": ".py",
   "mimetype": "text/x-python",
   "name": "python",
   "nbconvert_exporter": "python",
   "pygments_lexer": "ipython3",
   "version": "3.5.2"
  }
 },
 "nbformat": 4,
 "nbformat_minor": 2
}
