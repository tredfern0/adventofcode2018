{
 "cells": [
  {
   "cell_type": "code",
   "execution_count": 1,
   "metadata": {
    "collapsed": true
   },
   "outputs": [],
   "source": [
    "with open(\"input24.txt\",\"r\") as f:\n",
    "    data = f.read().strip().split(\"\\n\")"
   ]
  },
  {
   "cell_type": "code",
   "execution_count": 2,
   "metadata": {},
   "outputs": [
    {
     "name": "stdout",
     "output_type": "stream",
     "text": [
      "Immune System:\n",
      "1193 units each with 4200 hit points (immune to slashing, radiation, fire) with an attack that does 33 bludgeoning damage at initiative 2\n",
      "151 units each with 9047 hit points (immune to slashing, cold; weak to fire) with an attack that does 525 slashing damage at initiative 1\n",
      "218 units each with 4056 hit points (weak to radiation; immune to fire, slashing) with an attack that does 176 fire damage at initiative 9\n",
      "5066 units each with 4687 hit points (weak to slashing, fire) with an attack that does 8 slashing damage at initiative 8\n",
      "2023 units each with 5427 hit points (weak to slashing) with an attack that does 22 slashing damage at initiative 3\n",
      "3427 units each with 5532 hit points (weak to slashing) with an attack that does 15 cold damage at initiative 13\n",
      "1524 units each with 8584 hit points (immune to fire) with an attack that does 49 fire damage at initiative 7\n",
      "82 units each with 2975 hit points (weak to cold, fire) with an attack that does 359 bludgeoning damage at initiative 5\n",
      "5628 units each with 9925 hit points (weak to fire; immune to cold) with an attack that does 17 radiation damage at initiative 11\n",
      "1410 units each with 9872 hit points (weak to cold; immune to fire) with an attack that does 60 slashing damage at initiative 10\n",
      "\n",
      "Infection:\n",
      "5184 units each with 12832 hit points (weak to fire, cold) with an attack that does 4 fire damage at initiative 20\n",
      "2267 units each with 13159 hit points (weak to fire; immune to bludgeoning) with an attack that does 10 fire damage at initiative 4\n",
      "3927 units each with 50031 hit points (weak to slashing, cold; immune to fire, radiation) with an attack that does 23 cold damage at initiative 17\n",
      "9435 units each with 23735 hit points (immune to cold) with an attack that does 4 cold damage at initiative 12\n",
      "3263 units each with 26487 hit points (weak to fire) with an attack that does 11 fire damage at initiative 14\n",
      "222 units each with 15916 hit points (weak to fire) with an attack that does 135 fire damage at initiative 18\n",
      "972 units each with 45332 hit points (weak to bludgeoning, slashing) with an attack that does 86 cold damage at initiative 19\n",
      "1456 units each with 39583 hit points (immune to radiation; weak to cold, fire) with an attack that does 53 bludgeoning damage at initiative 16\n",
      "2813 units each with 28251 hit points with an attack that does 17 cold damage at initiative 15\n",
      "1179 units each with 42431 hit points (immune to fire, slashing) with an attack that does 55 fire damage at initiative 6\n"
     ]
    }
   ],
   "source": [
    "for d in data:\n",
    "    print(d)"
   ]
  },
  {
   "cell_type": "code",
   "execution_count": 3,
   "metadata": {
    "collapsed": true
   },
   "outputs": [],
   "source": [
    "import re"
   ]
  },
  {
   "cell_type": "code",
   "execution_count": 4,
   "metadata": {
    "collapsed": true
   },
   "outputs": [],
   "source": [
    "def get_groups(data):\n",
    "    groups = []\n",
    "\n",
    "    for r in data:\n",
    "        army_ = re.findall(\"Immune|Infection\",r)\n",
    "        if army_:\n",
    "            army = army_[0]\n",
    "            i = 1\n",
    "\n",
    "        #units, hp, damage, initiative\n",
    "        attr_num = list(map(int,re.findall(\"\\d+\",r)))\n",
    "        attr_str = re.findall(\"weak|immune|cold|fire|slashing|radiation|bludgeoning\",r)\n",
    "        if attr_num:\n",
    "            units, hp, attack_damage, initiative = attr_num\n",
    "            attack_type = attr_str[-1]\n",
    "            id_ = \"{}{}\".format(army,i)\n",
    "            attrs = attr_str[:-1]\n",
    "\n",
    "            weakI = attr_str.index(\"weak\") if \"weak\" in attr_str else -1\n",
    "            immuneI = attr_str.index(\"immune\") if \"immune\" in attr_str else -1\n",
    "            attr_dict = {\"weak\":attr_str[weakI+1:immuneI] if weakI<immuneI else attr_str[weakI+1:-1], \n",
    "                         \"immune\":attr_str[immuneI+1:weakI] if immuneI<weakI else attr_str[immuneI+1:-1]}\n",
    "\n",
    "            groups.append(Group(army, id_, units, hp, attr_dict, attack_damage, attack_type, initiative))\n",
    "\n",
    "            i+=1\n",
    "\n",
    "    return groups"
   ]
  },
  {
   "cell_type": "code",
   "execution_count": null,
   "metadata": {
    "collapsed": true
   },
   "outputs": [],
   "source": []
  },
  {
   "cell_type": "code",
   "execution_count": 5,
   "metadata": {
    "collapsed": true
   },
   "outputs": [],
   "source": [
    "class Group:\n",
    "    def __init__(self, army, id_, units, hp, attr_dict, attack_damage, attack_type, initiative):\n",
    "        self.army = army\n",
    "        self.id_ = id_\n",
    "        self.units = units\n",
    "        self.hp = hp\n",
    "        self.attr_dict = attr_dict\n",
    "        self.attack_damage = attack_damage\n",
    "        self.attack_type = attack_type\n",
    "        self.initiative = initiative\n",
    "        \n",
    "        self.attacker = None\n",
    "        self.attacking = None\n",
    "        \n",
    "        self.eff_pow = units * attack_damage\n",
    "    def __repr__(self):\n",
    "        return self.id_\n",
    "    def __str__(self):\n",
    "        return self.id_"
   ]
  },
  {
   "cell_type": "code",
   "execution_count": 6,
   "metadata": {
    "collapsed": true
   },
   "outputs": [],
   "source": [
    "def get_damage(u_attack, u_defend):\n",
    "    base_damage = u_attack.attack_damage * u_attack.units\n",
    "    if u_attack.attack_type in u_defend.attr_dict[\"immune\"]:\n",
    "        base_damage = 0\n",
    "    elif u_attack.attack_type in u_defend.attr_dict[\"weak\"]:\n",
    "        base_damage*=2\n",
    "    return base_damage"
   ]
  },
  {
   "cell_type": "code",
   "execution_count": 7,
   "metadata": {
    "collapsed": true
   },
   "outputs": [],
   "source": [
    "def get_deaths(g, damage):\n",
    "    deaths = damage // g.hp\n",
    "    return deaths"
   ]
  },
  {
   "cell_type": "code",
   "execution_count": 19,
   "metadata": {
    "collapsed": true
   },
   "outputs": [],
   "source": [
    "def get_enemy(possible):\n",
    "    #Keep max damage\n",
    "    possible = [x for x in possible if x[1]==max([y[1] for y in possible])]\n",
    "    #If tie - enemy with largest effective power\n",
    "    if len(possible)>1:\n",
    "        possible = [x for x in possible if x[0].eff_pow==max([y[0].eff_pow for y in possible])]\n",
    "    #If still tie - defending group with highest initiative\n",
    "    if len(possible)>1:\n",
    "        possible = [max(possible,key=lambda x:x[0].initiative)]\n",
    "    \n",
    "    return possible[0]"
   ]
  },
  {
   "cell_type": "code",
   "execution_count": 20,
   "metadata": {
    "collapsed": true
   },
   "outputs": [],
   "source": [
    "def run_sim(groups, immune_must_win=False):\n",
    "    while True:\n",
    "        groups = [x for x in groups if x.units>0]\n",
    "        groups.sort(key=lambda x:x.initiative, reverse=True)\n",
    "        groups.sort(key=lambda x:x.eff_pow, reverse=True)\n",
    "\n",
    "        infection = [x for x in groups if x.army==\"Infection\"]\n",
    "        immune = [x for x in groups if x.army==\"Immune\"]\n",
    "        \n",
    "        #Condition for part 2\n",
    "        if immune_must_win and not immune:\n",
    "            return 0        \n",
    "        if not infection or not immune:\n",
    "            break\n",
    "\n",
    "        for g in groups:\n",
    "            enemies = [x for x in groups if x.army!=g.army and not x.attacker]\n",
    "            enemies = [(x,get_damage(g,x)) for x in enemies]\n",
    "            possible = [x for x in enemies if x[1]>0]\n",
    "\n",
    "            if possible:\n",
    "                #Keep max damage\n",
    "                possible = [x for x in possible if x[1]==max([y[1] for y in possible])]\n",
    "                #If tie - enemy with largest effective power\n",
    "                if len(possible)>1:\n",
    "                    possible = [x for x in possible if x[0].eff_pow==max([y[0].eff_pow for y in possible])]\n",
    "                #If still tie - defending group with highest initiative\n",
    "                if len(possible)>1:\n",
    "                    possible = [max(possible,key=lambda x:x[0].initiative)]\n",
    "                \n",
    "                assert len(possible)==1\n",
    "                possible[0][0].attacker = g\n",
    "                g.attacking = possible[0][0]\n",
    "\n",
    "        \n",
    "        #Sort by initiative, then attack\n",
    "        groups.sort(key=lambda x:x.initiative, reverse=True) \n",
    "        total_deaths = 0\n",
    "        for g in groups:\n",
    "            if g.attacking:\n",
    "                damage = get_damage(g, g.attacking)\n",
    "                deaths = damage // g.attacking.hp\n",
    "                total_deaths+=deaths\n",
    "                remaining_units = max(g.attacking.units - deaths, 0)\n",
    "                \n",
    "                g.attacking.units = remaining_units\n",
    "\n",
    "        #Can get stuck in a stalemate\n",
    "        if total_deaths==0:\n",
    "            return 0\n",
    "        \n",
    "        #Update values for next iteration\n",
    "        for g in groups:\n",
    "            g.attacker = None\n",
    "            g.attacking = None\n",
    "            g.eff_pow = g.units * g.attack_damage\n",
    "\n",
    "    return sum([g.units for g in groups])\n"
   ]
  },
  {
   "cell_type": "code",
   "execution_count": 21,
   "metadata": {},
   "outputs": [
    {
     "name": "stdout",
     "output_type": "stream",
     "text": [
      "28976\n"
     ]
    }
   ],
   "source": [
    "groups = get_groups(data)\n",
    "print(run_sim(groups))"
   ]
  },
  {
   "cell_type": "code",
   "execution_count": null,
   "metadata": {
    "collapsed": true
   },
   "outputs": [],
   "source": []
  },
  {
   "cell_type": "code",
   "execution_count": 22,
   "metadata": {},
   "outputs": [
    {
     "name": "stdout",
     "output_type": "stream",
     "text": [
      "3534\n"
     ]
    }
   ],
   "source": [
    "win_total = 0\n",
    "increase = 0\n",
    "while not win_total:\n",
    "    increase+=1\n",
    "    \n",
    "    groups = get_groups(data)\n",
    "    for g in groups:\n",
    "        if g.army==\"Immune\":\n",
    "            g.attack_damage+=increase\n",
    "            g.eff_pow = g.attack_damage*g.units\n",
    "\n",
    "    win_total = run_sim(groups, True)\n",
    "print(win_total)"
   ]
  },
  {
   "cell_type": "code",
   "execution_count": null,
   "metadata": {
    "collapsed": true
   },
   "outputs": [],
   "source": []
  }
 ],
 "metadata": {
  "kernelspec": {
   "display_name": "Python 3",
   "language": "python",
   "name": "python3"
  },
  "language_info": {
   "codemirror_mode": {
    "name": "ipython",
    "version": 3
   },
   "file_extension": ".py",
   "mimetype": "text/x-python",
   "name": "python",
   "nbconvert_exporter": "python",
   "pygments_lexer": "ipython3",
   "version": "3.5.4"
  }
 },
 "nbformat": 4,
 "nbformat_minor": 2
}
