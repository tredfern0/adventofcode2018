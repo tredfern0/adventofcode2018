{
 "cells": [
  {
   "cell_type": "code",
   "execution_count": 1,
   "metadata": {
    "collapsed": true
   },
   "outputs": [],
   "source": [
    "with open(\"input10.txt\",\"r\") as f:\n",
    "    data = f.read()"
   ]
  },
  {
   "cell_type": "code",
   "execution_count": 2,
   "metadata": {
    "collapsed": true
   },
   "outputs": [],
   "source": [
    "data = data.split(\"\\n\")[:-1]"
   ]
  },
  {
   "cell_type": "code",
   "execution_count": 3,
   "metadata": {
    "collapsed": false
   },
   "outputs": [
    {
     "name": "stdout",
     "output_type": "stream",
     "text": [
      "['position=<-30052,  -9918> velocity=< 3,  1>', 'position=< 20349, -50260> velocity=<-2,  5>', 'position=< 40505, -40169> velocity=<-4,  4>']\n"
     ]
    }
   ],
   "source": [
    "print(data[:3])"
   ]
  },
  {
   "cell_type": "code",
   "execution_count": 4,
   "metadata": {
    "collapsed": true
   },
   "outputs": [],
   "source": [
    "import re"
   ]
  },
  {
   "cell_type": "code",
   "execution_count": 5,
   "metadata": {
    "collapsed": false
   },
   "outputs": [],
   "source": [
    "coords = []\n",
    "for d in data:\n",
    "    spl = re.findall(r'\\<(.*?)\\>',d)\n",
    "    vals = [int(x.strip()) for seq in spl for x in seq.split(\",\")]\n",
    "    coords.append(vals)"
   ]
  },
  {
   "cell_type": "code",
   "execution_count": null,
   "metadata": {
    "collapsed": true
   },
   "outputs": [],
   "source": []
  },
  {
   "cell_type": "code",
   "execution_count": 6,
   "metadata": {
    "collapsed": true
   },
   "outputs": [],
   "source": [
    "def get_positions(coords,forwardI):\n",
    "    return [(x[0]+forwardI*x[2], x[1]+forwardI*x[3]) for x in coords]"
   ]
  },
  {
   "cell_type": "code",
   "execution_count": 7,
   "metadata": {
    "collapsed": true
   },
   "outputs": [],
   "source": [
    "def print_position(coords):\n",
    "    xmax, xmin = max([x[0] for x in coords]), min([x[0] for x in coords])\n",
    "    ymax, ymin = max([x[1] for x in coords]), min([x[1] for x in coords])\n",
    "    xrange = xmax-xmin\n",
    "    yrange = ymax-ymin\n",
    "    disp = [[\".\" for i in range(xrange+1)] for j in range(yrange+1)]        \n",
    "    for xy in coords:\n",
    "        x = xy[0] - xmin\n",
    "        y = xy[1] - ymin\n",
    "        disp[y][x] = \"#\"\n",
    "    for x in disp:\n",
    "        print(\"\".join(x))"
   ]
  },
  {
   "cell_type": "code",
   "execution_count": 8,
   "metadata": {
    "collapsed": false
   },
   "outputs": [
    {
     "name": "stdout",
     "output_type": "stream",
     "text": [
      ".####...######....##....#....#..######..#....#..#....#.....###\n",
      "#....#..#........#..#...##...#..#.......#....#..#...#.......#.\n",
      "#.......#.......#....#..##...#..#.......#....#..#..#........#.\n",
      "#.......#.......#....#..#.#..#..#.......#....#..#.#.........#.\n",
      "#.......#####...#....#..#.#..#..#####...######..##..........#.\n",
      "#..###..#.......######..#..#.#..#.......#....#..##..........#.\n",
      "#....#..#.......#....#..#..#.#..#.......#....#..#.#.........#.\n",
      "#....#..#.......#....#..#...##..#.......#....#..#..#....#...#.\n",
      "#...##..#.......#....#..#...##..#.......#....#..#...#...#...#.\n",
      ".###.#..#.......#....#..#....#..######..#....#..#....#...###..\n",
      "10086\n"
     ]
    }
   ],
   "source": [
    "min_diff = float(\"inf\")\n",
    "forwardI = 1\n",
    "while True:\n",
    "    pos = get_positions(coords,forwardI)\n",
    "    xrange = max([x[0] for x in pos]) - min([x[0] for x in pos])\n",
    "    yrange = max([x[1] for x in pos]) - min([x[1] for x in pos])\n",
    "    diff = xrange*yrange\n",
    "    if diff<min_diff:\n",
    "        min_diff = diff\n",
    "        forwardI+=1\n",
    "    else:\n",
    "        print_position(get_positions(coords,forwardI-1))\n",
    "        print(forwardI-1)\n",
    "        break"
   ]
  },
  {
   "cell_type": "code",
   "execution_count": null,
   "metadata": {
    "collapsed": true
   },
   "outputs": [],
   "source": []
  }
 ],
 "metadata": {
  "kernelspec": {
   "display_name": "Python 3",
   "language": "python",
   "name": "python3"
  },
  "language_info": {
   "codemirror_mode": {
    "name": "ipython",
    "version": 3
   },
   "file_extension": ".py",
   "mimetype": "text/x-python",
   "name": "python",
   "nbconvert_exporter": "python",
   "pygments_lexer": "ipython3",
   "version": "3.5.2"
  }
 },
 "nbformat": 4,
 "nbformat_minor": 2
}
