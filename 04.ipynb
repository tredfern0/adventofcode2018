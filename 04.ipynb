{
 "cells": [
  {
   "cell_type": "code",
   "execution_count": 65,
   "metadata": {
    "collapsed": true
   },
   "outputs": [],
   "source": [
    "with open(\"input04.txt\",\"r\") as f:\n",
    "    data = f.read()"
   ]
  },
  {
   "cell_type": "code",
   "execution_count": 66,
   "metadata": {
    "collapsed": true
   },
   "outputs": [],
   "source": [
    "data = data.split(\"\\n\")[:-1]"
   ]
  },
  {
   "cell_type": "code",
   "execution_count": 67,
   "metadata": {
    "collapsed": false
   },
   "outputs": [
    {
     "data": {
      "text/plain": [
       "['[1518-05-11 00:22] falls asleep',\n",
       " '[1518-10-11 00:51] wakes up',\n",
       " '[1518-10-12 00:31] wakes up',\n",
       " '[1518-04-08 00:57] wakes up',\n",
       " '[1518-09-26 23:59] Guard #2851 begins shift',\n",
       " '[1518-11-06 00:40] wakes up',\n",
       " '[1518-08-06 00:04] Guard #2851 begins shift',\n",
       " '[1518-09-27 00:54] wakes up',\n",
       " '[1518-07-09 00:00] Guard #2153 begins shift',\n",
       " '[1518-04-11 00:37] falls asleep',\n",
       " '[1518-10-04 00:28] falls asleep',\n",
       " '[1518-05-22 23:59] Guard #2267 begins shift',\n",
       " '[1518-11-02 00:00] Guard #163 begins shift',\n",
       " '[1518-07-03 00:55] wakes up',\n",
       " '[1518-11-11 00:42] wakes up',\n",
       " '[1518-08-06 00:45] falls asleep',\n",
       " '[1518-07-01 00:35] wakes up',\n",
       " '[1518-04-12 00:51] wakes up',\n",
       " '[1518-09-20 00:49] wakes up',\n",
       " '[1518-06-24 00:04] falls asleep']"
      ]
     },
     "execution_count": 67,
     "metadata": {},
     "output_type": "execute_result"
    }
   ],
   "source": [
    "data[:20]"
   ]
  },
  {
   "cell_type": "code",
   "execution_count": 68,
   "metadata": {
    "collapsed": true
   },
   "outputs": [],
   "source": [
    "data.sort()"
   ]
  },
  {
   "cell_type": "code",
   "execution_count": 69,
   "metadata": {
    "collapsed": true
   },
   "outputs": [],
   "source": [
    "from collections import defaultdict\n",
    "import numpy as np"
   ]
  },
  {
   "cell_type": "code",
   "execution_count": 70,
   "metadata": {
    "collapsed": true
   },
   "outputs": [],
   "source": [
    "guard = None\n",
    "sleep_times = defaultdict(lambda:np.zeros((60)))\n",
    "for d in data:\n",
    "    s = d.split()\n",
    "    if \"Guard\" in d:\n",
    "        guard = s[3]\n",
    "    elif \"asleep\" in s:\n",
    "        sleepT = int(s[1][3:-1])\n",
    "    elif \"wakes\" in s:\n",
    "        awakeT = int(s[1][3:-1])\n",
    "        sleep_times[guard][sleepT:awakeT]+=1"
   ]
  },
  {
   "cell_type": "code",
   "execution_count": 71,
   "metadata": {
    "collapsed": false
   },
   "outputs": [],
   "source": [
    "sums = {g:np.sum(sleep_times[g]) for g in sleep_times}"
   ]
  },
  {
   "cell_type": "code",
   "execution_count": 72,
   "metadata": {
    "collapsed": false
   },
   "outputs": [
    {
     "name": "stdout",
     "output_type": "stream",
     "text": [
      "#1601 46\n"
     ]
    }
   ],
   "source": [
    "max_guard = max(sums, key=sums.get)\n",
    "max_hour = np.argmax(sleep_times[max_guard])\n",
    "print(max_guard, max_hour)"
   ]
  },
  {
   "cell_type": "code",
   "execution_count": 73,
   "metadata": {
    "collapsed": false
   },
   "outputs": [
    {
     "name": "stdout",
     "output_type": "stream",
     "text": [
      "73646\n"
     ]
    }
   ],
   "source": [
    "print(1601*46)"
   ]
  },
  {
   "cell_type": "code",
   "execution_count": null,
   "metadata": {
    "collapsed": true
   },
   "outputs": [],
   "source": []
  },
  {
   "cell_type": "code",
   "execution_count": 74,
   "metadata": {
    "collapsed": true
   },
   "outputs": [],
   "source": [
    "max_sleep = {g:np.max(sleep_times[g]) for g in sleep_times}"
   ]
  },
  {
   "cell_type": "code",
   "execution_count": 75,
   "metadata": {
    "collapsed": false
   },
   "outputs": [
    {
     "name": "stdout",
     "output_type": "stream",
     "text": [
      "#163 29\n"
     ]
    }
   ],
   "source": [
    "sleep_guard = max(max_sleep, key=max_sleep.get)\n",
    "sleep_hour = np.argmax(sleep_times[sleep_guard])\n",
    "print(sleep_guard, sleep_hour)"
   ]
  },
  {
   "cell_type": "code",
   "execution_count": 76,
   "metadata": {
    "collapsed": false
   },
   "outputs": [
    {
     "name": "stdout",
     "output_type": "stream",
     "text": [
      "4727\n"
     ]
    }
   ],
   "source": [
    "print(163*29)"
   ]
  },
  {
   "cell_type": "code",
   "execution_count": null,
   "metadata": {
    "collapsed": true
   },
   "outputs": [],
   "source": []
  }
 ],
 "metadata": {
  "kernelspec": {
   "display_name": "Python 3",
   "language": "python",
   "name": "python3"
  },
  "language_info": {
   "codemirror_mode": {
    "name": "ipython",
    "version": 3
   },
   "file_extension": ".py",
   "mimetype": "text/x-python",
   "name": "python",
   "nbconvert_exporter": "python",
   "pygments_lexer": "ipython3",
   "version": "3.5.2"
  }
 },
 "nbformat": 4,
 "nbformat_minor": 2
}
