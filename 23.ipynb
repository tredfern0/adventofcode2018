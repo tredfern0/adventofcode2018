{
 "cells": [
  {
   "cell_type": "code",
   "execution_count": 1,
   "metadata": {
    "collapsed": true
   },
   "outputs": [],
   "source": [
    "with open(\"input23.txt\", \"r\") as f:\n",
    "    data = f.read().strip().split(\"\\n\")"
   ]
  },
  {
   "cell_type": "code",
   "execution_count": 2,
   "metadata": {
    "collapsed": true
   },
   "outputs": [],
   "source": [
    "import re\n",
    "import math\n",
    "import numpy as np"
   ]
  },
  {
   "cell_type": "code",
   "execution_count": 3,
   "metadata": {
    "collapsed": true
   },
   "outputs": [],
   "source": [
    "arr = np.array([list(map(int, re.findall(r'-?\\d+', d))) for d in data])"
   ]
  },
  {
   "cell_type": "code",
   "execution_count": null,
   "metadata": {
    "collapsed": true
   },
   "outputs": [],
   "source": []
  },
  {
   "cell_type": "code",
   "execution_count": 4,
   "metadata": {},
   "outputs": [
    {
     "name": "stdout",
     "output_type": "stream",
     "text": [
      "652\n"
     ]
    }
   ],
   "source": [
    "radius_index = np.argmax(arr[:,3])\n",
    "dists = arr[:,:3] - arr[radius_index][:3]\n",
    "matches = (np.sum(np.abs(dists),axis=1)<=arr[radius_index,3]).sum()\n",
    "print(matches)"
   ]
  },
  {
   "cell_type": "code",
   "execution_count": null,
   "metadata": {
    "collapsed": true
   },
   "outputs": [],
   "source": []
  },
  {
   "cell_type": "code",
   "execution_count": 5,
   "metadata": {},
   "outputs": [],
   "source": [
    "def get_box_count(arr,x0,y0,z0,x1,y1,z1):\n",
    "    \"\"\"\n",
    "    Get the count of unique nanobots which can reach this cube\n",
    "    \n",
    "    For each of the x,y,z values of a nanobot - \n",
    "    If the value is in between x0 (or y0, etc) and x1, it's 0 steps to reach this edge\n",
    "    Otherwise the number of steps will be min of steps to reach x0 or x1\n",
    "    Add up all the shortest steps for x,y,z for each nanobot, and compare to the nanobot's radius, to get count\n",
    "    \"\"\"\n",
    "    lows = [x0,y0,z0]\n",
    "    highs = [x1,y1,z1]\n",
    "    \n",
    "    dist = arr[:,:3]\n",
    "    \n",
    "    #Save this for later - values which are in between bounds and should be set to 0\n",
    "    zero_mask = (dist>=lows) & (dist<=highs)\n",
    "    \n",
    "    diff1 = np.abs(dist-lows)\n",
    "    diff2 = np.abs(dist-highs)\n",
    "    diff = np.minimum(diff1,diff2)\n",
    "    \n",
    "    #Apply the mask, and then compare the fewest steps to reach this box to our radius\n",
    "    diff[zero_mask]=0\n",
    "    fewest_steps = np.sum(diff,axis=1)\n",
    "    return (fewest_steps<=arr[:,3]).sum()"
   ]
  },
  {
   "cell_type": "code",
   "execution_count": 6,
   "metadata": {
    "collapsed": true
   },
   "outputs": [],
   "source": [
    "def get_point_count(arr,x,y,z):\n",
    "    \"\"\"Number of nanobots in range of point\"\"\"\n",
    "    res = np.abs(arr[:,:3]-[x,y,z])\n",
    "    return (res.sum(axis=1)<=arr[:,3]).sum()"
   ]
  },
  {
   "cell_type": "code",
   "execution_count": 7,
   "metadata": {},
   "outputs": [],
   "source": [
    "def get_start_coords(arr):\n",
    "    \"\"\"Get initial bounding box that should cover entire area, and be easy to subdivide\"\"\"\n",
    "    x0,x1 = min(arr[:,0]), max(arr[:,0])\n",
    "    y0,y1 = min(arr[:,1]), max(arr[:,1])\n",
    "    z0,z1 = min(arr[:,2]), max(arr[:,2])\n",
    "    range_ = max((x1-x0,y1-y0,z1-z0))\n",
    "\n",
    "    #Be sure it's evenly divisible by 3\n",
    "    range_ = 3**math.ceil(math.log(range_,3))\n",
    "    return x0,y0,z0, x0+range_,y0+range_,z0+range_"
   ]
  },
  {
   "cell_type": "code",
   "execution_count": 8,
   "metadata": {
    "collapsed": true
   },
   "outputs": [],
   "source": [
    "def divide_box(x0,y0,z0, x1,y1,z1):\n",
    "    \"\"\"Subdivide into 27 equal sized partitions\"\"\"\n",
    "    step = (x1-x0)//3\n",
    "    boxes = []\n",
    "    for x in range(x0,x1,step):\n",
    "        for y in range(y0,y1,step):\n",
    "            for z in range(z0,z1,step):\n",
    "                if step>1:\n",
    "                    boxes.append((x,y,z, x+step,y+step, z+step))\n",
    "                else:\n",
    "                    boxes.append((x,y,z, x,y,z))\n",
    "    return boxes             "
   ]
  },
  {
   "cell_type": "code",
   "execution_count": 9,
   "metadata": {},
   "outputs": [
    {
     "name": "stdout",
     "output_type": "stream",
     "text": [
      "164960498\n"
     ]
    }
   ],
   "source": [
    "#Value to beat - start at 0,0,0\n",
    "best_score = 0\n",
    "best_matches = get_point_count(arr, 0,0,0)\n",
    "\n",
    "#Get starting coordinates - ensure nicely subdivisible cube\n",
    "start_coords = get_start_coords(arr)\n",
    "\n",
    "box_matches = get_box_count(arr,*start_coords)\n",
    "\n",
    "box_stack = [(box_matches, sum([abs(x) for x in start_coords[:3]]), start_coords)]\n",
    "\n",
    "while box_stack:\n",
    "    #Want it sorted by - matches and then coordinate sum (lowest to highest, as we'll pop from back)\n",
    "    box_stack.sort()\n",
    "    \n",
    "    #Repeatedly pop the bounding box which contains the most reachable points\n",
    "    curr_box = box_stack.pop()\n",
    "    \n",
    "    box_matches, box_score, coords = curr_box\n",
    "    #Since we're sorting each time, once the best case scenario would leave us worse off, we can halt\n",
    "    if box_matches < best_matches or (box_matches==best_matches and box_score>best_score):\n",
    "        break\n",
    "    \n",
    "    #Divide box into 27 partitions\n",
    "    divided = divide_box(*coords)\n",
    "    for d in divided:\n",
    "        #d is coordinates of a box (or a point) like: x0,y0,z0, x1,y1,z1\n",
    "        \n",
    "        #If it's a point\n",
    "        if d[:3]==d[3:]:            \n",
    "            matches = get_point_count(arr, *d[:3])\n",
    "            score = sum([abs(x) for x in d[:3]])\n",
    "            if matches>best_matches or (matches==best_matches and score<best_score):\n",
    "                best_score = score\n",
    "                best_matches = matches\n",
    "        #Otherwise it's a box - subdivide and add all potential best score areas to our stack\n",
    "        else:\n",
    "            box_matches = get_box_count(arr, *d)\n",
    "            box_best_score = sum([abs(x) for x in d[:3]])\n",
    "            if box_matches>best_matches or (box_matches==best_matches and box_best_score>best_score):\n",
    "                box_stack.append((box_matches, box_best_score, d))\n",
    "print(best_score)"
   ]
  },
  {
   "cell_type": "code",
   "execution_count": null,
   "metadata": {
    "collapsed": true
   },
   "outputs": [],
   "source": []
  }
 ],
 "metadata": {
  "kernelspec": {
   "display_name": "Python 3",
   "language": "python",
   "name": "python3"
  },
  "language_info": {
   "codemirror_mode": {
    "name": "ipython",
    "version": 3
   },
   "file_extension": ".py",
   "mimetype": "text/x-python",
   "name": "python",
   "nbconvert_exporter": "python",
   "pygments_lexer": "ipython3",
   "version": "3.5.4"
  }
 },
 "nbformat": 4,
 "nbformat_minor": 2
}
