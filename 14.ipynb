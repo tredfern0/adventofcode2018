{
 "cells": [
  {
   "cell_type": "code",
   "execution_count": 1,
   "metadata": {
    "collapsed": true
   },
   "outputs": [],
   "source": [
    "data = 765071"
   ]
  },
  {
   "cell_type": "code",
   "execution_count": 2,
   "metadata": {
    "collapsed": false
   },
   "outputs": [
    {
     "name": "stdout",
     "output_type": "stream",
     "text": [
      "3171123923\n"
     ]
    }
   ],
   "source": [
    "scores = [3,7]\n",
    "indA = 0\n",
    "indB = 1\n",
    "\n",
    "endpoint = data\n",
    "\n",
    "while True:\n",
    "    new_s = scores[indA] + scores[indB]\n",
    "    scores += [int(x) for x in str(new_s)]\n",
    "    \n",
    "    indA = (indA + scores[indA]+1) % len(scores)\n",
    "    indB = (indB + scores[indB]+1) % len(scores)\n",
    "\n",
    "    if len(scores)>endpoint+10:\n",
    "        print(\"\".join(str(x) for x in scores[endpoint:endpoint+10]))\n",
    "        break"
   ]
  },
  {
   "cell_type": "code",
   "execution_count": null,
   "metadata": {
    "collapsed": true
   },
   "outputs": [],
   "source": []
  },
  {
   "cell_type": "code",
   "execution_count": 3,
   "metadata": {
    "collapsed": false
   },
   "outputs": [
    {
     "name": "stdout",
     "output_type": "stream",
     "text": [
      "20353748\n"
     ]
    }
   ],
   "source": [
    "scores = [3,7]\n",
    "indA = 0\n",
    "indB = 1\n",
    "\n",
    "endpoint = data\n",
    "endpoint = [int(x) for x in str(endpoint)]\n",
    "\n",
    "while True:\n",
    "    new_s = scores[indA] + scores[indB]\n",
    "    scores += [int(x) for x in str(new_s)]\n",
    "    \n",
    "    #Possibly added two digits, so need to check both\n",
    "    if scores[-len(endpoint):]==endpoint:\n",
    "        print(len(scores)-len(endpoint))\n",
    "        break\n",
    "    elif scores[-len(endpoint)-1:-1]==endpoint:\n",
    "        print(len(scores)-len(endpoint)-1)\n",
    "        break\n",
    "    \n",
    "    indA = (indA + scores[indA]+1) % len(scores)\n",
    "    indB = (indB + scores[indB]+1) % len(scores)"
   ]
  },
  {
   "cell_type": "code",
   "execution_count": null,
   "metadata": {
    "collapsed": true
   },
   "outputs": [],
   "source": []
  }
 ],
 "metadata": {
  "kernelspec": {
   "display_name": "Python 3",
   "language": "python",
   "name": "python3"
  },
  "language_info": {
   "codemirror_mode": {
    "name": "ipython",
    "version": 3
   },
   "file_extension": ".py",
   "mimetype": "text/x-python",
   "name": "python",
   "nbconvert_exporter": "python",
   "pygments_lexer": "ipython3",
   "version": "3.5.2"
  }
 },
 "nbformat": 4,
 "nbformat_minor": 2
}
