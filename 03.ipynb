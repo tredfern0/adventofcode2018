{
 "cells": [
  {
   "cell_type": "code",
   "execution_count": 1,
   "metadata": {
    "collapsed": true
   },
   "outputs": [],
   "source": [
    "with open(\"input03.txt\",\"r\") as f:\n",
    "    data = f.read()"
   ]
  },
  {
   "cell_type": "code",
   "execution_count": 2,
   "metadata": {
    "collapsed": true
   },
   "outputs": [],
   "source": [
    "data = data.split(\"\\n\")[:-1]"
   ]
  },
  {
   "cell_type": "code",
   "execution_count": 3,
   "metadata": {
    "collapsed": false
   },
   "outputs": [
    {
     "name": "stdout",
     "output_type": "stream",
     "text": [
      "['#1 @ 146,196: 19x14', '#2 @ 641,817: 27x28', '#3 @ 604,922: 11x17']\n"
     ]
    }
   ],
   "source": [
    "print(data[:3])"
   ]
  },
  {
   "cell_type": "code",
   "execution_count": 4,
   "metadata": {
    "collapsed": true
   },
   "outputs": [],
   "source": [
    "import numpy as np"
   ]
  },
  {
   "cell_type": "code",
   "execution_count": null,
   "metadata": {
    "collapsed": true
   },
   "outputs": [],
   "source": []
  },
  {
   "cell_type": "code",
   "execution_count": 5,
   "metadata": {
    "collapsed": false
   },
   "outputs": [
    {
     "name": "stdout",
     "output_type": "stream",
     "text": [
      "106501\n"
     ]
    }
   ],
   "source": [
    "arr = np.zeros((2000,2000))\n",
    "for d in data:\n",
    "    v = d.split()\n",
    "    #['#1', '@', '146,196:', '19x14']\n",
    "    id_ = v[0]\n",
    "    loc1,loc2 = [int(x) for x in v[2][:-1].split(\",\")]\n",
    "    dim1,dim2 = [int(x) for x in v[3].split(\"x\")]\n",
    "    arr[loc2:loc2+dim2,loc1:loc1+dim1]+=1\n",
    "print((arr>1).sum())"
   ]
  },
  {
   "cell_type": "code",
   "execution_count": null,
   "metadata": {
    "collapsed": true
   },
   "outputs": [],
   "source": []
  },
  {
   "cell_type": "code",
   "execution_count": 6,
   "metadata": {
    "collapsed": false
   },
   "outputs": [
    {
     "name": "stdout",
     "output_type": "stream",
     "text": [
      "#632\n"
     ]
    }
   ],
   "source": [
    "for d in data:\n",
    "    v = d.split()\n",
    "    id_ = v[0]\n",
    "    loc1,loc2 = [int(x) for x in v[2][:-1].split(\",\")]\n",
    "    dim1,dim2 = [int(x) for x in v[3].split(\"x\")]\n",
    "    sub = arr[loc2:loc2+dim2,loc1:loc1+dim1]\n",
    "    if (sub>1).sum()==0:\n",
    "        print(id_)\n",
    "        break"
   ]
  },
  {
   "cell_type": "code",
   "execution_count": null,
   "metadata": {
    "collapsed": true
   },
   "outputs": [],
   "source": []
  }
 ],
 "metadata": {
  "kernelspec": {
   "display_name": "Python 3",
   "language": "python",
   "name": "python3"
  },
  "language_info": {
   "codemirror_mode": {
    "name": "ipython",
    "version": 3
   },
   "file_extension": ".py",
   "mimetype": "text/x-python",
   "name": "python",
   "nbconvert_exporter": "python",
   "pygments_lexer": "ipython3",
   "version": "3.5.2"
  }
 },
 "nbformat": 4,
 "nbformat_minor": 2
}
