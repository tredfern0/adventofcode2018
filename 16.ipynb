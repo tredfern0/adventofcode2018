{
 "cells": [
  {
   "cell_type": "code",
   "execution_count": 3,
   "metadata": {
    "collapsed": true
   },
   "outputs": [],
   "source": [
    "with open(\"input16.txt\", \"r\") as f:\n",
    "    data = f.read().strip()\n",
    "data = data.split(\"\\n\")"
   ]
  },
  {
   "cell_type": "code",
   "execution_count": 4,
   "metadata": {},
   "outputs": [
    {
     "name": "stdout",
     "output_type": "stream",
     "text": [
      "Before: [1, 1, 2, 0]\n",
      "8 1 0 3\n",
      "After:  [1, 1, 2, 1]\n",
      "\n",
      "Before: [1, 1, 1, 2]\n",
      "8 1 0 3\n",
      "After:  [1, 1, 1, 1]\n",
      "\n",
      "Before: [2, 2, 0, 3]\n",
      "5 1 3 1\n",
      "After:  [2, 0, 0, 3]\n",
      "\n",
      "12 0 2 2\n",
      "4 2 1 2\n",
      "2 2 3 3\n",
      "12 3 3 1\n",
      "4 1 0 3\n",
      "14 3 0 3\n",
      "15 2 0 2\n",
      "12 0 2 3\n",
      "4 3 2 3\n",
      "4 3 2 3\n",
      "2 3 1 1\n",
      "12 1 0 0\n"
     ]
    }
   ],
   "source": [
    "for d in data[:12]:\n",
    "    print(d)\n",
    "for d in data[-12:]:\n",
    "    print(d)"
   ]
  },
  {
   "cell_type": "code",
   "execution_count": 5,
   "metadata": {
    "collapsed": true
   },
   "outputs": [],
   "source": [
    "import copy\n",
    "import re\n",
    "from collections import defaultdict"
   ]
  },
  {
   "cell_type": "code",
   "execution_count": 6,
   "metadata": {
    "collapsed": true
   },
   "outputs": [],
   "source": [
    "def addr(registers, a, b, c):\n",
    "    reg = copy.copy(registers)\n",
    "    reg[c] = reg[a]+reg[b]\n",
    "    return reg\n",
    "\n",
    "def addi(registers, a, b, c):\n",
    "    reg = copy.copy(registers)\n",
    "    reg[c] = reg[a]+b\n",
    "    return reg\n",
    "\n",
    "def mulr(registers, a, b, c):\n",
    "    reg = copy.copy(registers)\n",
    "    reg[c] = reg[a]*reg[b]\n",
    "    return reg\n",
    "\n",
    "def muli(registers, a, b, c):\n",
    "    reg = copy.copy(registers)\n",
    "    reg[c] = reg[a]*b\n",
    "    return reg\n",
    "\n",
    "def banr(registers, a, b, c):\n",
    "    reg = copy.copy(registers)\n",
    "    reg[c] = reg[a]&reg[b]\n",
    "    return reg\n",
    "\n",
    "def bani(registers, a, b, c):\n",
    "    reg = copy.copy(registers)\n",
    "    reg[c] = reg[a]&b\n",
    "    return reg\n",
    "    \n",
    "def borr(registers, a, b, c):\n",
    "    reg = copy.copy(registers)\n",
    "    reg[c] = reg[a]|reg[b]\n",
    "    return reg\n",
    "\n",
    "def bori(registers, a, b, c):\n",
    "    reg = copy.copy(registers)\n",
    "    reg[c] = reg[a]|b\n",
    "    return reg\n",
    "    \n",
    "def setr(registers, a, b, c):\n",
    "    reg = copy.copy(registers)\n",
    "    reg[c] = reg[a]\n",
    "    return reg\n",
    "    \n",
    "def seti(registers, a, b, c):\n",
    "    reg = copy.copy(registers)\n",
    "    reg[c] = a\n",
    "    return reg\n",
    "    \n",
    "def gtir(registers, a, b, c):\n",
    "    reg = copy.copy(registers)\n",
    "    reg[c] = 1 if a>reg[b] else 0\n",
    "    return reg\n",
    "\n",
    "def gtri(registers, a, b, c):\n",
    "    reg = copy.copy(registers)\n",
    "    reg[c] = 1 if reg[a]>b else 0\n",
    "    return reg\n",
    "\n",
    "def gtrr(registers, a, b, c):\n",
    "    reg = copy.copy(registers)\n",
    "    reg[c] = 1 if reg[a]>reg[b] else 0\n",
    "    return reg\n",
    "\n",
    "def eqir(registers, a, b, c):\n",
    "    reg = copy.copy(registers)\n",
    "    reg[c] = 1 if a==reg[b] else 0\n",
    "    return reg\n",
    "\n",
    "def eqri(registers, a, b, c):\n",
    "    reg = copy.copy(registers)\n",
    "    reg[c] = 1 if reg[a]==b else 0\n",
    "    return reg\n",
    "\n",
    "def eqrr(registers, a, b, c):\n",
    "    reg = copy.copy(registers)\n",
    "    reg[c] = 1 if reg[a]==reg[b] else 0\n",
    "    return reg"
   ]
  },
  {
   "cell_type": "code",
   "execution_count": 7,
   "metadata": {
    "collapsed": true
   },
   "outputs": [],
   "source": [
    "func_dict = {\n",
    "\"addr\":addr,\n",
    "\"addi\":addi,\n",
    "\"mulr\":mulr,\n",
    "\"muli\":muli,\n",
    "\"banr\":banr,\n",
    "\"bani\":bani,\n",
    "\"borr\":borr,\n",
    "\"bori\":bori,\n",
    "\"setr\":setr,\n",
    "\"seti\":seti,\n",
    "\"gtir\":gtir,\n",
    "\"gtri\":gtri,\n",
    "\"gtrr\":gtrr,\n",
    "\"eqir\":eqir,\n",
    "\"eqri\":eqri,\n",
    "\"eqrr\":eqrr,\n",
    "}\n",
    "def test_all(registers, code, result):\n",
    "    matches = []\n",
    "    for key in func_dict:\n",
    "        output = func_dict[key](registers, code[1], code[2], code[3])\n",
    "        if output == result:\n",
    "            matches.append(key)\n",
    "    return matches"
   ]
  },
  {
   "cell_type": "code",
   "execution_count": 9,
   "metadata": {},
   "outputs": [
    {
     "name": "stdout",
     "output_type": "stream",
     "text": [
      "614\n"
     ]
    }
   ],
   "source": [
    "total = 0\n",
    "\n",
    "registers = None\n",
    "after = None\n",
    "code = None\n",
    "\n",
    "result_dict = defaultdict(list)\n",
    "\n",
    "for row in data:\n",
    "    nums = re.findall(r'\\d+',row)\n",
    "    nums = [int(x) for x in nums]\n",
    "    \n",
    "    if \"Before\" in row:\n",
    "        registers = nums\n",
    "    elif \"After\" in row:\n",
    "        after = nums\n",
    "        matches = test_all(registers, code, after)\n",
    "        if len(matches)>=3:\n",
    "            total+=1\n",
    "        result_dict[code[0]].append(matches)\n",
    "    elif row:\n",
    "        code = nums\n",
    "print(total)"
   ]
  },
  {
   "cell_type": "code",
   "execution_count": null,
   "metadata": {
    "collapsed": true
   },
   "outputs": [],
   "source": []
  },
  {
   "cell_type": "code",
   "execution_count": 10,
   "metadata": {},
   "outputs": [],
   "source": [
    "opcode_dict = {}\n",
    "\n",
    "while len(opcode_dict) < 16:\n",
    "        \n",
    "    #Look for any opcodes that only matched one function\n",
    "    for opcode in result_dict:\n",
    "        if opcode in opcode_dict:\n",
    "            continue\n",
    "        for matches in result_dict[opcode]:\n",
    "            valid_matches = [x for x in matches if x not in opcode_dict.values()]\n",
    "            if len(matches)==1:\n",
    "                opcode_dict[opcode] = matches[0]\n",
    "                break\n",
    "    \n",
    "    #Look for any functions that only matched with one opcode\n",
    "    for key in func_dict:\n",
    "        if key in opcode_dict.values():\n",
    "            continue\n",
    "        matched_codes = set()\n",
    "        for opcode in [op for op in result_dict if op not in opcode_dict]:\n",
    "            for matches in result_dict[opcode]:\n",
    "                if key in matches:\n",
    "                    matched_codes.add(opcode)\n",
    "        if len(matched_codes)==1:\n",
    "            opcode = list(matched_codes)[0]\n",
    "            opcode_dict[opcode] = key        "
   ]
  },
  {
   "cell_type": "code",
   "execution_count": 11,
   "metadata": {},
   "outputs": [
    {
     "name": "stdout",
     "output_type": "stream",
     "text": [
      "{0: 'eqir', 1: 'borr', 2: 'addr', 3: 'gtri', 4: 'muli', 5: 'gtir', 6: 'mulr', 7: 'banr', 8: 'bori', 9: 'eqri', 10: 'eqrr', 11: 'bani', 12: 'setr', 13: 'gtrr', 14: 'addi', 15: 'seti'}\n"
     ]
    }
   ],
   "source": [
    "print(opcode_dict)"
   ]
  },
  {
   "cell_type": "code",
   "execution_count": 12,
   "metadata": {},
   "outputs": [],
   "source": [
    "last_after = None\n",
    "for i in range(len(data)):\n",
    "    if \"After\" in data[i]:\n",
    "        last_after = i"
   ]
  },
  {
   "cell_type": "code",
   "execution_count": 13,
   "metadata": {},
   "outputs": [
    {
     "name": "stdout",
     "output_type": "stream",
     "text": [
      "656\n"
     ]
    }
   ],
   "source": [
    "registers = [0,0,0,0]\n",
    "for cmd in data[last_after+1:]:\n",
    "    if not cmd:\n",
    "        continue\n",
    "    cmd = re.findall(r'\\d+',cmd)\n",
    "    cmd = [int(x) for x in cmd]\n",
    "    operation = opcode_dict[cmd[0]]\n",
    "    func = func_dict[operation]\n",
    "    registers = func(registers, cmd[1], cmd[2], cmd[3])\n",
    "print(registers[0])"
   ]
  },
  {
   "cell_type": "code",
   "execution_count": null,
   "metadata": {
    "collapsed": true
   },
   "outputs": [],
   "source": []
  }
 ],
 "metadata": {
  "kernelspec": {
   "display_name": "Python 3",
   "language": "python",
   "name": "python3"
  },
  "language_info": {
   "codemirror_mode": {
    "name": "ipython",
    "version": 3
   },
   "file_extension": ".py",
   "mimetype": "text/x-python",
   "name": "python",
   "nbconvert_exporter": "python",
   "pygments_lexer": "ipython3",
   "version": "3.5.4"
  }
 },
 "nbformat": 4,
 "nbformat_minor": 2
}
