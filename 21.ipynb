{
 "cells": [
  {
   "cell_type": "code",
   "execution_count": 1,
   "metadata": {
    "collapsed": true
   },
   "outputs": [],
   "source": [
    "with open(\"input21.txt\",\"r\") as f:\n",
    "    data = f.read().strip().split(\"\\n\")"
   ]
  },
  {
   "cell_type": "code",
   "execution_count": 2,
   "metadata": {},
   "outputs": [
    {
     "name": "stdout",
     "output_type": "stream",
     "text": [
      "-1 #ip 1\n",
      "0 seti 123 0 3\n",
      "1 bani 3 456 3\n",
      "2 eqri 3 72 3\n",
      "3 addr 3 1 1\n",
      "4 seti 0 0 1\n",
      "5 seti 0 1 3\n",
      "6 bori 3 65536 2\n",
      "7 seti 1505483 6 3\n",
      "8 bani 2 255 4\n",
      "9 addr 3 4 3\n",
      "10 bani 3 16777215 3\n",
      "11 muli 3 65899 3\n",
      "12 bani 3 16777215 3\n",
      "13 gtir 256 2 4\n",
      "14 addr 4 1 1\n",
      "15 addi 1 1 1\n",
      "16 seti 27 6 1\n",
      "17 seti 0 3 4\n",
      "18 addi 4 1 5\n",
      "19 muli 5 256 5\n",
      "20 gtrr 5 2 5\n",
      "21 addr 5 1 1\n",
      "22 addi 1 1 1\n",
      "23 seti 25 4 1\n",
      "24 addi 4 1 4\n",
      "25 seti 17 3 1\n",
      "26 setr 4 1 2\n",
      "27 seti 7 4 1\n",
      "28 eqrr 3 0 4\n",
      "29 addr 4 1 1\n",
      "30 seti 5 9 1\n"
     ]
    }
   ],
   "source": [
    "for rowI,row in enumerate(data):\n",
    "    print(rowI-1,row)"
   ]
  },
  {
   "cell_type": "code",
   "execution_count": 3,
   "metadata": {
    "collapsed": true
   },
   "outputs": [],
   "source": [
    "import copy"
   ]
  },
  {
   "cell_type": "code",
   "execution_count": 4,
   "metadata": {
    "collapsed": true
   },
   "outputs": [],
   "source": [
    "def addr(registers, a, b, c):\n",
    "    reg = copy.copy(registers)\n",
    "    reg[c] = reg[a]+reg[b]\n",
    "    return reg\n",
    "\n",
    "def addi(registers, a, b, c):\n",
    "    reg = copy.copy(registers)\n",
    "    reg[c] = reg[a]+b\n",
    "    return reg\n",
    "\n",
    "def mulr(registers, a, b, c):\n",
    "    reg = copy.copy(registers)\n",
    "    reg[c] = reg[a]*reg[b]\n",
    "    return reg\n",
    "\n",
    "def muli(registers, a, b, c):\n",
    "    reg = copy.copy(registers)\n",
    "    reg[c] = reg[a]*b\n",
    "    return reg\n",
    "\n",
    "def banr(registers, a, b, c):\n",
    "    reg = copy.copy(registers)\n",
    "    reg[c] = reg[a]&reg[b]\n",
    "    return reg\n",
    "\n",
    "def bani(registers, a, b, c):\n",
    "    reg = copy.copy(registers)\n",
    "    reg[c] = reg[a]&b\n",
    "    return reg\n",
    "    \n",
    "def borr(registers, a, b, c):\n",
    "    reg = copy.copy(registers)\n",
    "    reg[c] = reg[a]|reg[b]\n",
    "    return reg\n",
    "\n",
    "def bori(registers, a, b, c):\n",
    "    reg = copy.copy(registers)\n",
    "    reg[c] = reg[a]|b\n",
    "    return reg\n",
    "    \n",
    "def setr(registers, a, b, c):\n",
    "    reg = copy.copy(registers)\n",
    "    reg[c] = reg[a]\n",
    "    return reg\n",
    "    \n",
    "def seti(registers, a, b, c):\n",
    "    reg = copy.copy(registers)\n",
    "    reg[c] = a\n",
    "    return reg\n",
    "    \n",
    "def gtir(registers, a, b, c):\n",
    "    reg = copy.copy(registers)\n",
    "    reg[c] = 1 if a>reg[b] else 0\n",
    "    return reg\n",
    "\n",
    "def gtri(registers, a, b, c):\n",
    "    reg = copy.copy(registers)\n",
    "    reg[c] = 1 if reg[a]>b else 0\n",
    "    return reg\n",
    "\n",
    "def gtrr(registers, a, b, c):\n",
    "    reg = copy.copy(registers)\n",
    "    reg[c] = 1 if reg[a]>reg[b] else 0\n",
    "    return reg\n",
    "\n",
    "def eqir(registers, a, b, c):\n",
    "    reg = copy.copy(registers)\n",
    "    reg[c] = 1 if a==reg[b] else 0\n",
    "    return reg\n",
    "\n",
    "def eqri(registers, a, b, c):\n",
    "    reg = copy.copy(registers)\n",
    "    reg[c] = 1 if reg[a]==b else 0\n",
    "    return reg\n",
    "\n",
    "def eqrr(registers, a, b, c):\n",
    "    reg = copy.copy(registers)\n",
    "    reg[c] = 1 if reg[a]==reg[b] else 0\n",
    "    return reg"
   ]
  },
  {
   "cell_type": "code",
   "execution_count": 5,
   "metadata": {
    "collapsed": true
   },
   "outputs": [],
   "source": [
    "func_dict = {\n",
    "\"addr\":addr,\n",
    "\"addi\":addi,\n",
    "\"mulr\":mulr,\n",
    "\"muli\":muli,\n",
    "\"banr\":banr,\n",
    "\"bani\":bani,\n",
    "\"borr\":borr,\n",
    "\"bori\":bori,\n",
    "\"setr\":setr,\n",
    "\"seti\":seti,\n",
    "\"gtir\":gtir,\n",
    "\"gtri\":gtri,\n",
    "\"gtrr\":gtrr,\n",
    "\"eqir\":eqir,\n",
    "\"eqri\":eqri,\n",
    "\"eqrr\":eqrr,\n",
    "}"
   ]
  },
  {
   "cell_type": "code",
   "execution_count": 6,
   "metadata": {
    "collapsed": true
   },
   "outputs": [],
   "source": [
    "ip = int(data[0].split()[-1])\n",
    "instr = data[1:]"
   ]
  },
  {
   "cell_type": "code",
   "execution_count": 9,
   "metadata": {
    "collapsed": true
   },
   "outputs": [],
   "source": [
    "last_18 = (0,0)\n",
    "\n",
    "matches = []\n",
    "registers = [0,0,0,0,0,0]\n",
    "while True:\n",
    "\n",
    "    instr_i = registers[ip]\n",
    "\n",
    "    #Check for loop - r[2] and r[3] are key\n",
    "    #If we see same values twice in a row, we're in a loop, and we should fast forward\n",
    "    if instr_i==18:\n",
    "        curr = (registers[2],registers[3])\n",
    "        if curr == last_18:\n",
    "            # Each loop - r[4] increments, then r[5] == r[4]*256.  \n",
    "            #If r[5]>r[2], skip to instruction 23 - \n",
    "            #set r[2] to be equal to r[4], the value that *256 is >r[5]\n",
    "            registers[4] = registers[2]//256\n",
    "        else:\n",
    "            last_18 = curr\n",
    "   \n",
    "    #TIf reg[0] == reg[3], we would halt\n",
    "    if instr_i==28:\n",
    "        #Once we detect a loop, we've found all unique values\n",
    "        if registers[3] in matches:\n",
    "            break\n",
    "        matches.append(registers[3])\n",
    "\n",
    "    cmd = instr[instr_i].split()\n",
    "    a,b,c = list(map(int,cmd[1:]))\n",
    "    registers = func_dict[cmd[0]](registers,a,b,c)\n",
    "    registers[ip] +=1"
   ]
  },
  {
   "cell_type": "code",
   "execution_count": 10,
   "metadata": {},
   "outputs": [
    {
     "name": "stdout",
     "output_type": "stream",
     "text": [
      "7216956\n",
      "14596916\n"
     ]
    }
   ],
   "source": [
    "print(matches[0])\n",
    "print(matches[-1])"
   ]
  },
  {
   "cell_type": "code",
   "execution_count": null,
   "metadata": {
    "collapsed": true
   },
   "outputs": [],
   "source": []
  }
 ],
 "metadata": {
  "kernelspec": {
   "display_name": "Python 3",
   "language": "python",
   "name": "python3"
  },
  "language_info": {
   "codemirror_mode": {
    "name": "ipython",
    "version": 3
   },
   "file_extension": ".py",
   "mimetype": "text/x-python",
   "name": "python",
   "nbconvert_exporter": "python",
   "pygments_lexer": "ipython3",
   "version": "3.5.4"
  }
 },
 "nbformat": 4,
 "nbformat_minor": 2
}
