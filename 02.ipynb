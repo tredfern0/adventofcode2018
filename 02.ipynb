{
 "cells": [
  {
   "cell_type": "code",
   "execution_count": 1,
   "metadata": {
    "collapsed": true
   },
   "outputs": [],
   "source": [
    "with open(\"input02.txt\",\"r\") as f:\n",
    "    data = f.read()"
   ]
  },
  {
   "cell_type": "code",
   "execution_count": 2,
   "metadata": {
    "collapsed": true
   },
   "outputs": [],
   "source": [
    "data = data.split(\"\\n\")[:-1]"
   ]
  },
  {
   "cell_type": "code",
   "execution_count": 25,
   "metadata": {
    "collapsed": false
   },
   "outputs": [
    {
     "name": "stdout",
     "output_type": "stream",
     "text": [
      "['qysdgimlcaghpfozuwejmhrbvx', 'qysdtiklcagnpfhzuwbjmhrtvx', 'qysdtiflcsgnpfozuwejmhruvx']\n"
     ]
    }
   ],
   "source": [
    "print(data[:3])"
   ]
  },
  {
   "cell_type": "code",
   "execution_count": 29,
   "metadata": {
    "collapsed": false
   },
   "outputs": [
    {
     "name": "stdout",
     "output_type": "stream",
     "text": [
      "4980\n"
     ]
    }
   ],
   "source": [
    "count2 = 0\n",
    "count3 = 0\n",
    "for val in data:\n",
    "    counts = [val.count(x) for x in val]\n",
    "    if 2 in counts:\n",
    "        count2+=1\n",
    "    if 3 in counts:\n",
    "        count3+=1\n",
    "print(count2*count3)"
   ]
  },
  {
   "cell_type": "code",
   "execution_count": null,
   "metadata": {
    "collapsed": true
   },
   "outputs": [],
   "source": []
  },
  {
   "cell_type": "code",
   "execution_count": 35,
   "metadata": {
    "collapsed": false
   },
   "outputs": [
    {
     "name": "stdout",
     "output_type": "stream",
     "text": [
      "qysdtrkloagnfozuwujmhrbvx\n"
     ]
    }
   ],
   "source": [
    "for vi,v1 in enumerate(data):\n",
    "    for v2 in data[vi+1:]:\n",
    "        diff = 0\n",
    "        for ci,c1 in enumerate(v1):\n",
    "            if c1!=v2[ci]:\n",
    "                diff+=1\n",
    "            if diff>1:\n",
    "                break\n",
    "        if diff==1:\n",
    "            print(\"\".join([v1[i] for i in range(len(v1)) if v1[i]==v2[i]]))    "
   ]
  },
  {
   "cell_type": "code",
   "execution_count": null,
   "metadata": {
    "collapsed": true
   },
   "outputs": [],
   "source": []
  }
 ],
 "metadata": {
  "kernelspec": {
   "display_name": "Python 3",
   "language": "python",
   "name": "python3"
  },
  "language_info": {
   "codemirror_mode": {
    "name": "ipython",
    "version": 3
   },
   "file_extension": ".py",
   "mimetype": "text/x-python",
   "name": "python",
   "nbconvert_exporter": "python",
   "pygments_lexer": "ipython3",
   "version": "3.5.2"
  }
 },
 "nbformat": 4,
 "nbformat_minor": 2
}
