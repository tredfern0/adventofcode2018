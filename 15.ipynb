{
 "cells": [
  {
   "cell_type": "code",
   "execution_count": 1,
   "metadata": {
    "collapsed": true
   },
   "outputs": [],
   "source": [
    "with open(\"input15.txt\",\"r\") as f:\n",
    "    data = f.read().strip()"
   ]
  },
  {
   "cell_type": "code",
   "execution_count": 2,
   "metadata": {},
   "outputs": [
    {
     "name": "stdout",
     "output_type": "stream",
     "text": [
      "################################\n",
      "###########....#################\n",
      "###########......G##############\n",
      "############.G......############\n",
      "############........############\n",
      "########..G#.............#######\n",
      "#########.G.G................#.#\n",
      "######..#.......G..............#\n",
      "#######...G.....G.....#........#\n",
      "########..............E....##.##\n",
      "###....G##GG........G.....######\n",
      "###.###.##............##.#######\n",
      "###G##.....G..#####...#######..#\n",
      "##........#..#######..#######..#\n",
      "#...........#########.##.#....##\n",
      "#...........#########.......####\n",
      "#.......E...#########.##......##\n",
      "#G...G...#..#########.###......#\n",
      "#...G.......#########E#.#.....##\n",
      "#....#.....E.#######.......E..##\n",
      "###.###.......#####...#.E....###\n",
      "######................#.E....###\n",
      "#######G.#...#..##.####.......##\n",
      "#######..E.........######.E.####\n",
      "#######.##...G.....######..#####\n",
      "#######..#.G......#######.######\n",
      "#####....#.#.....#######..######\n",
      "#####.E..###..##########.#######\n",
      "#####..######.##########.#######\n",
      "#####..######..######....#######\n",
      "######.#######.#####.....#######\n",
      "################################\n"
     ]
    }
   ],
   "source": [
    "for row in data.split(\"\\n\"):\n",
    "    print(row)"
   ]
  },
  {
   "cell_type": "code",
   "execution_count": 3,
   "metadata": {
    "collapsed": true
   },
   "outputs": [],
   "source": [
    "def setup_inp(inp):\n",
    "    \"\"\"Convert list of strings into list of lists, with glves/goblins replaced by tuples\"\"\"\n",
    "    grid = []\n",
    "    for rowI,row in enumerate(inp.split(\"\\n\")):\n",
    "        grid.append([x for x in row])\n",
    "        for colI,col in enumerate(row):\n",
    "            if col in [\"G\",\"E\"]:\n",
    "                #Replace enemies with tuples so we can track them - (character_type, hit_points, moved_already_bool)\n",
    "                char_tup = (col, 200, False)\n",
    "                grid[rowI][colI] = char_tup  \n",
    "    return grid"
   ]
  },
  {
   "cell_type": "code",
   "execution_count": 4,
   "metadata": {
    "collapsed": true
   },
   "outputs": [],
   "source": [
    "def print_board(inp):\n",
    "    for row in inp:\n",
    "        extra = []\n",
    "        print_row = []  #In case we append hitpoints\n",
    "        for char in row:\n",
    "            if isinstance(char,tuple):\n",
    "                print_row.append(char[0])\n",
    "                extra.append(str(char[1]))\n",
    "            else:\n",
    "                print_row.append(char)\n",
    "        print(\"\".join(print_row),\"   \", \" \".join(extra))"
   ]
  },
  {
   "cell_type": "code",
   "execution_count": 5,
   "metadata": {
    "collapsed": true
   },
   "outputs": [],
   "source": [
    "def move_character(inp, from_row, from_col, to_row, to_col, char):\n",
    "    \"\"\"Move character on grid, and increment the i value so we can tell we already moved it\"\"\"\n",
    "    inp[from_row][from_col] = \".\"\n",
    "    inp[to_row][to_col] = (char[0],char[1],True)\n",
    "    return inp"
   ]
  },
  {
   "cell_type": "code",
   "execution_count": 6,
   "metadata": {
    "collapsed": true
   },
   "outputs": [],
   "source": [
    "def attack(inp, row, col, enemy, damage=3):\n",
    "    \"\"\"\n",
    "    Attack weakest adjacent enemy, if one is there\n",
    "    If multiple weakest enemies, attack in reading order\n",
    "    Return the modified board, and a boolean indicating whether anyone died\n",
    "    \"\"\"\n",
    "\n",
    "    if not adjacent_enemy(inp, row, col, enemy):\n",
    "        return inp, False\n",
    "\n",
    "    #Create a dict of {coordinates: hp} for each adjacent enemy\n",
    "    enemies = {}\n",
    "    for coords in [(row-1,col), (row+1,col), (row,col-1), (row,col+1)]:\n",
    "        if inp[coords[0]][coords[1]][0] == enemy:\n",
    "            #enemy is a tuple, (char_type, hp, already_moved_bool)\n",
    "            enemies[coords] = inp[coords[0]][coords[1]][1]\n",
    "    \n",
    "    #Filter to only the enemies with minimum hp\n",
    "    min_hp = min(enemies.values())\n",
    "    enemies = [x for x in enemies if enemies[x]==min_hp]\n",
    "    \n",
    "    #Now we have a list of coordinates, we can sort to get reading order, then take the first to get our enemy\n",
    "    enemies.sort()\n",
    "    coords = enemies[0]\n",
    "    \n",
    "    enemy = inp[coords[0]][coords[1]]\n",
    "    enemy_pts = enemy[1] - damage\n",
    "    enemy_tup = (enemy[0], enemy_pts, enemy[2])\n",
    "\n",
    "    #Check for killed\n",
    "    if enemy_pts <= 0:\n",
    "        inp[coords[0]][coords[1]] = \".\"\n",
    "        return inp, True\n",
    "    else:\n",
    "        inp[coords[0]][coords[1]] = enemy_tup\n",
    "        return inp, False\n",
    "    "
   ]
  },
  {
   "cell_type": "code",
   "execution_count": 7,
   "metadata": {
    "collapsed": true
   },
   "outputs": [],
   "source": [
    "def adjacent_enemy(inp, rowI, colI, enemy):\n",
    "    \"\"\"Check for enemy in adjacent square\"\"\"\n",
    "    if any(x[0]==enemy for x in [inp[rowI+1][colI], inp[rowI-1][colI], inp[rowI][colI+1], inp[rowI][colI-1]]):\n",
    "        return True\n",
    "    return False"
   ]
  },
  {
   "cell_type": "code",
   "execution_count": 8,
   "metadata": {
    "collapsed": true
   },
   "outputs": [],
   "source": [
    "def get_best_move(best_moves):\n",
    "    \"\"\"\n",
    "    Takes a list of tuples of \n",
    "    (first_move, number_of_moves, tile_coordinates), which might look like - \n",
    "    ((12, 22), 8, (17, 25))\n",
    "    ((12, 22), 8, (18, 24))\n",
    "    ((12, 22), 8, (19, 21))\n",
    "    ((13, 21), 6, (19, 21))\n",
    "    ((13, 23), 6, (17, 25))\n",
    "    ((13, 23), 6, (18, 24))\n",
    "    ((14, 22), 6, (17, 25))\n",
    "    ((14, 22), 6, (18, 24))\n",
    "    ((14, 22), 6, (19, 21))\n",
    "    And filters/sorts them to satisfy all the conditions\n",
    "    \"\"\"\n",
    "    \n",
    "    if not best_moves:\n",
    "        return None\n",
    "    \n",
    "    #First condition - fewest number of moves away\n",
    "    min_steps = min([x[1] for x in best_moves])\n",
    "    best_moves = [x for x in best_moves if x[1]==min_steps]\n",
    "    \n",
    "    #Second condition - if tie, choose the first tile in reading order\n",
    "    best_moves.sort(key = lambda x:x[2])\n",
    "    best_moves = [x for x in best_moves if x[2]==best_moves[0][2]]\n",
    "\n",
    "    #Third condition - if tie, take the first step in reading order\n",
    "    best_moves.sort(key = lambda x:x[0])\n",
    "    best_moves = [x for x in best_moves if x[0]==best_moves[0][0]]\n",
    "    \n",
    "    return best_moves[0][0]"
   ]
  },
  {
   "cell_type": "code",
   "execution_count": 9,
   "metadata": {
    "collapsed": true
   },
   "outputs": [],
   "source": [
    "def count_characters(inp):\n",
    "    seen = {\"G\":0,\"E\":0}\n",
    "    for row in inp:\n",
    "        for col in row:\n",
    "            if col[0] in [\"G\",\"E\"]:\n",
    "                seen[col[0]]+=1\n",
    "    return seen"
   ]
  },
  {
   "cell_type": "code",
   "execution_count": 10,
   "metadata": {
    "collapsed": true
   },
   "outputs": [],
   "source": [
    "def bfs_move(inp, rowI, colI, hero, enemy):\n",
    "    \"\"\"\n",
    "    Perform a breadth first search for each adjacent tile\n",
    "    Although not the most efficient, the approach is still fast and makes it\n",
    "    easy to sort in such a way that satisfies all the conditions\n",
    "    \"\"\"\n",
    "    \n",
    "    #If an enemy is located adjacent to our current location - no move!\n",
    "    if adjacent_enemy(inp, rowI, colI, enemy):\n",
    "        return None\n",
    "    \n",
    "    first_moves = [(rowI+1,colI),(rowI-1,colI),(rowI,colI-1),(rowI,colI+1)]\n",
    "    #Filter down to valid first moves - must be a '.' there\n",
    "    first_moves = [x for x in first_moves if inp[x[0]][x[1]]==\".\"]\n",
    "    \n",
    "    #Keep the list of tuples nearest tiles we've found, in format - \n",
    "    #(first_move, number_of_moves, tile_coordinates)\n",
    "    #At the end we'll need to use all these values to find the proper move\n",
    "    best_moves = []               \n",
    "    \n",
    "    for move in first_moves:\n",
    "        r,c = move\n",
    "        \n",
    "        #We might immediately have an adjacent enemy and not need to search further\n",
    "        if adjacent_enemy(inp, r, c, enemy):\n",
    "            best_moves.append((move, 1, move))\n",
    "            continue\n",
    "        \n",
    "        #We'll need to keep track of two things - \n",
    "        #seen_coordinates - the tiles we've already visited\n",
    "        #stack - the \"new\" tiles accessible from the current furthest points\n",
    "        seen_coordinates = {(rowI,colI),(r,c)}\n",
    "        stack = [(r+1,c),(r-1,c),(r,c-1),(r,c+1)]\n",
    "        #Filter stack to only include \".\" tiles, which we haven't already seen\n",
    "        stack = [x for x in stack if inp[x[0]][x[1]]==\".\" and (x[0],x[1]) not in seen_coordinates]\n",
    "        \n",
    "        #Now do the search - \n",
    "        \n",
    "        i=1  #Already have moved one tile at this point\n",
    "        run = True\n",
    "        while run:\n",
    "            i+=1\n",
    "            \n",
    "            #Keep track of the new tiles here\n",
    "            new_stack = []\n",
    "\n",
    "            #Loop through and look for new tiles to add\n",
    "            for tile in stack:\n",
    "                if tile in seen_coordinates:\n",
    "                    continue\n",
    "                    \n",
    "                seen_coordinates.add(tile)\n",
    "                r,c = tile\n",
    "                \n",
    "                if adjacent_enemy(inp, r, c, enemy):\n",
    "                    best_moves.append((move,i,(r,c)))\n",
    "                    #We want to complete this iteration to find all other reachable tiles at the same distance\n",
    "                    run = False\n",
    "                    continue\n",
    "                    \n",
    "                #Add all newly accessible tiles to stack\n",
    "                new_tiles = [(r+1,c),(r-1,c),(r,c-1),(r,c+1)]\n",
    "                new_stack += [x for x in new_tiles if inp[x[0]][x[1]]==\".\" and (x[0],x[1]) not in seen_coordinates]\n",
    "\n",
    "            stack = list(set(new_stack))\n",
    "            #We might also need to end at this point if we have no more newly accessible tiles\n",
    "            if not stack:\n",
    "                run = False\n",
    "\n",
    "    #Take our list of the best_moves from each starting point that we generated, and find the one move we'll take\n",
    "    return get_best_move(best_moves)\n"
   ]
  },
  {
   "cell_type": "code",
   "execution_count": 11,
   "metadata": {
    "collapsed": true
   },
   "outputs": [],
   "source": [
    "def score_game(inp, rounds):\n",
    "    pts = 0\n",
    "    for rowI,row in enumerate(inp):\n",
    "        for colI,col in enumerate(row):\n",
    "            if col[0] in [\"G\",\"E\"]:\n",
    "                pts+=col[1]\n",
    "    return rounds*pts"
   ]
  },
  {
   "cell_type": "code",
   "execution_count": 12,
   "metadata": {
    "collapsed": true
   },
   "outputs": [],
   "source": [
    "def reset_moved_bools(inp):\n",
    "    \"\"\"Reset the third value in our character tuples, which tracks whether they've moved in a round\"\"\"\n",
    "    for rowI,row in enumerate(inp):\n",
    "        for colI,col in enumerate(row):\n",
    "            if col[0] in [\"G\",\"E\"]:\n",
    "                char_tup = (col[0],col[1],False)\n",
    "                inp[rowI][colI] = char_tup  \n",
    "    return inp"
   ]
  },
  {
   "cell_type": "code",
   "execution_count": 13,
   "metadata": {
    "collapsed": true
   },
   "outputs": [],
   "source": [
    "t0 = \"\"\"#######   \n",
    "#.G...#\n",
    "#...EG#\n",
    "#.#.#G#\n",
    "#..G#E#\n",
    "#.....#\n",
    "#######\"\"\"\n",
    "\n",
    "t1 = \"\"\"#######\n",
    "#G..#E#\n",
    "#E#E.E#\n",
    "#G.##.#\n",
    "#...#E#\n",
    "#...E.#\n",
    "#######\"\"\"\n",
    "\n",
    "\n",
    "t2 = \"\"\"#######\n",
    "#E..EG#\n",
    "#.#G.E#\n",
    "#E.##E#\n",
    "#G..#.#\n",
    "#..E#.#\n",
    "#######\"\"\"\n",
    "\n",
    "\n",
    "t3 = \"\"\"#######\n",
    "#E.G#.#\n",
    "#.#G..#\n",
    "#G.#.G#\n",
    "#G..#.#\n",
    "#...E.#\n",
    "#######\"\"\"\n",
    "\n",
    "\n",
    "t4 = \"\"\"#######\n",
    "#.E...#\n",
    "#.#..G#\n",
    "#.###.#\n",
    "#E#G#G#\n",
    "#...#G#\n",
    "#######\"\"\"\n",
    "\n",
    "\n",
    "t5 = \"\"\"#########\n",
    "#G......#\n",
    "#.E.#...#\n",
    "#..##..G#\n",
    "#...##..#\n",
    "#...#...#\n",
    "#.G...G.#\n",
    "#.....G.#\n",
    "#########\"\"\""
   ]
  },
  {
   "cell_type": "code",
   "execution_count": 14,
   "metadata": {
    "collapsed": true
   },
   "outputs": [],
   "source": [
    "def problem1(inp, print_=False):\n",
    "    grid = setup_inp(inp)\n",
    "\n",
    "    rounds = 0\n",
    "\n",
    "    while True:\n",
    "        #Count the current number of each character type\n",
    "        #We can use this to determine if the game has ended in the middle or end of a round\n",
    "        counts = count_characters(grid)\n",
    "\n",
    "        seen = {}\n",
    "        for rowI,row in enumerate(grid):\n",
    "            for colI,col in enumerate(row):\n",
    "                char = grid[rowI][colI]\n",
    "                if isinstance(char, tuple):\n",
    "\n",
    "                    #Indicates we already moved it this round\n",
    "                    if char[2]:\n",
    "                        continue\n",
    "\n",
    "                    r,c = rowI,colI  #Keep track of our current coordinates in case we move\n",
    "                    hero = char[0]\n",
    "                    enemy = \"G\" if hero==\"E\" else \"E\"\n",
    "\n",
    "                    counts[hero]-=1\n",
    "\n",
    "                    move_to = bfs_move(grid, rowI, colI, hero, enemy)\n",
    "                    if move_to:\n",
    "                        r,c = move_to  #Need to update our current coordinates for the impending attack\n",
    "                        grid = move_character(grid, rowI, colI, r, c, char)\n",
    "\n",
    "                    grid, death = attack(grid, r, c, enemy)\n",
    "                    if death:\n",
    "                        #Check to see if it's over - all of one side dead\n",
    "                        current_counts = count_characters(grid)\n",
    "                        game_over = any(x==0 for x in current_counts.values())\n",
    "                        #If game is over, we need to see if the round is complete or not\n",
    "                        if game_over:\n",
    "                            #Means we ended midround\n",
    "                            if counts[hero]>0:\n",
    "                                final_score = score_game(grid, rounds)\n",
    "                            #Otherwise round is complete- add 1 to rounds when calculating\n",
    "                            else:\n",
    "                                rounds+=1\n",
    "                                final_score = score_game(grid, rounds)\n",
    "                            if print_:\n",
    "                                print(\"GAME ENDED\",rounds)\n",
    "                                print_board(grid)\n",
    "                            \n",
    "                            return final_score\n",
    "\n",
    "        #Reset the variable that tracks whether a character has moved in a round\n",
    "        grid = reset_moved_bools(grid)\n",
    "\n",
    "        rounds += 1\n",
    "\n",
    "        if print_:\n",
    "            print(rounds)\n",
    "            print_board(grid)"
   ]
  },
  {
   "cell_type": "code",
   "execution_count": 15,
   "metadata": {
    "collapsed": true
   },
   "outputs": [],
   "source": [
    "assert problem1(t0)==27730\n",
    "assert problem1(t1)==36334\n",
    "assert problem1(t2)==39514\n",
    "assert problem1(t3)==27755\n",
    "assert problem1(t4)==28944\n",
    "assert problem1(t5)==18740"
   ]
  },
  {
   "cell_type": "code",
   "execution_count": 16,
   "metadata": {},
   "outputs": [
    {
     "name": "stdout",
     "output_type": "stream",
     "text": [
      "221754\n"
     ]
    }
   ],
   "source": [
    "print(problem1(data))"
   ]
  },
  {
   "cell_type": "code",
   "execution_count": null,
   "metadata": {
    "collapsed": true
   },
   "outputs": [],
   "source": []
  },
  {
   "cell_type": "code",
   "execution_count": 17,
   "metadata": {
    "collapsed": true
   },
   "outputs": [],
   "source": [
    "def problem2_loop(inp, damage_dict, print_=False):\n",
    "    \n",
    "    grid = setup_inp(inp)\n",
    "\n",
    "    rounds = 0\n",
    "\n",
    "    while True:\n",
    "        #Count the current number of each character type\n",
    "        #We can use this to determine if the game has ended in the middle or end of a round\n",
    "        counts = count_characters(grid)\n",
    "\n",
    "        seen = {}\n",
    "        for rowI,row in enumerate(grid):\n",
    "            for colI,col in enumerate(row):\n",
    "                char = grid[rowI][colI]\n",
    "                if isinstance(char, tuple):\n",
    "\n",
    "                    #Indicates we already moved it this round\n",
    "                    if char[2]:\n",
    "                        continue\n",
    "\n",
    "                    r,c = rowI,colI  #Keep track of our current coordinates in case we move\n",
    "                    hero = char[0]\n",
    "                    enemy = \"G\" if hero==\"E\" else \"E\"\n",
    "\n",
    "                    counts[hero]-=1\n",
    "\n",
    "                    move_to = bfs_move(grid, rowI, colI, hero, enemy)\n",
    "                    if move_to:\n",
    "                        r,c = move_to  #Need to update our current coordinates for the impending attack\n",
    "                        grid = move_character(grid, rowI, colI, r, c, char)\n",
    "                    \n",
    "                    damage = damage_dict[hero]\n",
    "                    grid, death = attack(grid, r, c, enemy, damage)\n",
    "                    if death and enemy==\"E\":\n",
    "                        #FAILED\n",
    "                        return False\n",
    "                    #If goblin death, same logic as before\n",
    "                    elif death:\n",
    "                        #Check to see if it's over - all of one side dead\n",
    "                        current_counts = count_characters(grid)\n",
    "                        game_over = any(x==0 for x in current_counts.values())\n",
    "                        #If game is over, we need to see if the round is complete or not\n",
    "                        if game_over:\n",
    "                            #Means we ended midround\n",
    "                            if counts[hero]>0:\n",
    "                                final_score = score_game(grid, rounds)\n",
    "                            #Otherwise round is complete- add 1 to rounds when calculating\n",
    "                            else:\n",
    "                                rounds+=1\n",
    "                                final_score = score_game(grid, rounds)\n",
    "                            if print_:\n",
    "                                print(\"GAME ENDED\",rounds)\n",
    "                                print_board(grid)\n",
    "                            \n",
    "                            return final_score\n",
    "\n",
    "        #Reset the variable that tracks whether a character has moved in a round\n",
    "        grid = reset_moved_bools(grid)\n",
    "\n",
    "        rounds += 1\n",
    "\n",
    "        if print_:\n",
    "            print(rounds)\n",
    "            print_board(grid)"
   ]
  },
  {
   "cell_type": "code",
   "execution_count": 18,
   "metadata": {
    "collapsed": true
   },
   "outputs": [],
   "source": [
    "def problem2(inp, print_=False):\n",
    "    score = False\n",
    "    damage_dict = {\"G\":3, \"E\":3}\n",
    "    while not score:\n",
    "        damage_dict[\"E\"] += 1\n",
    "        score = problem2_loop(inp, damage_dict, print_)\n",
    "    return score"
   ]
  },
  {
   "cell_type": "code",
   "execution_count": 19,
   "metadata": {},
   "outputs": [
    {
     "name": "stdout",
     "output_type": "stream",
     "text": [
      "41972\n"
     ]
    }
   ],
   "source": [
    "print(problem2(data))"
   ]
  },
  {
   "cell_type": "code",
   "execution_count": null,
   "metadata": {
    "collapsed": true
   },
   "outputs": [],
   "source": []
  }
 ],
 "metadata": {
  "kernelspec": {
   "display_name": "Python 3",
   "language": "python",
   "name": "python3"
  },
  "language_info": {
   "codemirror_mode": {
    "name": "ipython",
    "version": 3
   },
   "file_extension": ".py",
   "mimetype": "text/x-python",
   "name": "python",
   "nbconvert_exporter": "python",
   "pygments_lexer": "ipython3",
   "version": "3.5.4"
  }
 },
 "nbformat": 4,
 "nbformat_minor": 2
}
