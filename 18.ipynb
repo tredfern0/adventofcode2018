{
 "cells": [
  {
   "cell_type": "code",
   "execution_count": 1,
   "metadata": {
    "collapsed": true
   },
   "outputs": [],
   "source": [
    "def get_data():\n",
    "    with open(\"input18.txt\",\"r\") as f:\n",
    "        f = f.read().strip()\n",
    "    data = f.split(\"\\n\")\n",
    "    return data"
   ]
  },
  {
   "cell_type": "code",
   "execution_count": null,
   "metadata": {
    "collapsed": true
   },
   "outputs": [],
   "source": []
  },
  {
   "cell_type": "code",
   "execution_count": 2,
   "metadata": {
    "collapsed": true
   },
   "outputs": [],
   "source": [
    "def get_surrounding(data, rowI, colI):\n",
    "    vals = []\n",
    "    for r in range(rowI-1, rowI+2):\n",
    "        for c in range(colI-1, colI+2):\n",
    "            if r<0 or c<0:\n",
    "                continue\n",
    "            if r>=len(data) or c>=len(data[0]):\n",
    "                continue\n",
    "            if r==rowI and c==colI:\n",
    "                continue\n",
    "            vals.append(data[r][c])\n",
    "    return vals"
   ]
  },
  {
   "cell_type": "code",
   "execution_count": 3,
   "metadata": {
    "collapsed": true
   },
   "outputs": [],
   "source": [
    "def get_new_val(val, surround):\n",
    "    if val==\".\" and surround.count(\"|\")>=3:\n",
    "        return \"|\"\n",
    "    elif val==\"|\" and surround.count(\"#\")>=3:\n",
    "        return \"#\"\n",
    "    elif val==\"|\":\n",
    "        return \"|\"\n",
    "    elif val==\"#\" and surround.count(\"#\")>=1 and surround.count(\"|\")>=1:\n",
    "        return \"#\"\n",
    "    return \".\""
   ]
  },
  {
   "cell_type": "code",
   "execution_count": 4,
   "metadata": {
    "collapsed": true
   },
   "outputs": [],
   "source": [
    "def get_tally(data):\n",
    "    tree = 0\n",
    "    lumber = 0\n",
    "    for row in data:\n",
    "        tree+=row.count(\"|\")\n",
    "        lumber+=row.count(\"#\")\n",
    "    return tree, lumber, tree*lumber"
   ]
  },
  {
   "cell_type": "code",
   "execution_count": 5,
   "metadata": {},
   "outputs": [
    {
     "name": "stdout",
     "output_type": "stream",
     "text": [
      "584714\n"
     ]
    }
   ],
   "source": [
    "data = get_data()\n",
    "for _ in range(10):\n",
    "    next_data = []\n",
    "    for rowI, row in enumerate(data):\n",
    "        next_row = \"\"\n",
    "        for colI, curr_val in enumerate(row):\n",
    "            surround = get_surrounding(data, rowI, colI)\n",
    "            next_val = get_new_val(curr_val, surround)\n",
    "            next_row += next_val\n",
    "        next_data.append(next_row)\n",
    "    data = next_data\n",
    "print(get_tally(data)[2])"
   ]
  },
  {
   "cell_type": "code",
   "execution_count": null,
   "metadata": {
    "collapsed": true
   },
   "outputs": [],
   "source": []
  },
  {
   "cell_type": "code",
   "execution_count": 6,
   "metadata": {},
   "outputs": [
    {
     "name": "stdout",
     "output_type": "stream",
     "text": [
      "161160\n"
     ]
    }
   ],
   "source": [
    "data = get_data()\n",
    "results = []\n",
    "for _ in range(1000):\n",
    "    next_data = []\n",
    "    for rowI, row in enumerate(data):\n",
    "        next_row = \"\"\n",
    "        for colI, curr_val in enumerate(row):\n",
    "            surround = get_surrounding(data, rowI, colI)\n",
    "            next_val = get_new_val(curr_val, surround)\n",
    "            next_row += next_val\n",
    "        next_data.append(next_row)\n",
    "    data = next_data\n",
    "    result = get_tally(data)\n",
    "    \n",
    "    #Scan for cycle\n",
    "    c = [i for i in range(len(results)) if results[i]==result]\n",
    "    if len(c)>3:\n",
    "        if c[-1]-c[-2] == c[-2]-c[-3] == c[-3]-c[-4]:\n",
    "            cycle_len = c[-1]-c[-2]\n",
    "            cycle_i = c[-2]\n",
    "\n",
    "            remainder = (1000000000-1-cycle_i) % cycle_len\n",
    "            print(results[cycle_i + remainder][2])\n",
    "            break\n",
    "            \n",
    "    results.append(get_tally(data))"
   ]
  },
  {
   "cell_type": "code",
   "execution_count": null,
   "metadata": {
    "collapsed": true
   },
   "outputs": [],
   "source": []
  }
 ],
 "metadata": {
  "kernelspec": {
   "display_name": "Python 3",
   "language": "python",
   "name": "python3"
  },
  "language_info": {
   "codemirror_mode": {
    "name": "ipython",
    "version": 3
   },
   "file_extension": ".py",
   "mimetype": "text/x-python",
   "name": "python",
   "nbconvert_exporter": "python",
   "pygments_lexer": "ipython3",
   "version": "3.5.4"
  }
 },
 "nbformat": 4,
 "nbformat_minor": 2
}
