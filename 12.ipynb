{
 "cells": [
  {
   "cell_type": "code",
   "execution_count": 1,
   "metadata": {
    "collapsed": true
   },
   "outputs": [],
   "source": [
    "with open(\"input12.txt\",\"r\") as f:\n",
    "    data = f.read()"
   ]
  },
  {
   "cell_type": "code",
   "execution_count": 2,
   "metadata": {
    "collapsed": false
   },
   "outputs": [],
   "source": [
    "data = data.split(\"\\n\")[:-1]\n",
    "init = data[0].replace(\"initial state: \",\"\")\n",
    "conv = dict([x.split(\" => \") for x in data[2:]])"
   ]
  },
  {
   "cell_type": "code",
   "execution_count": 3,
   "metadata": {
    "collapsed": false
   },
   "outputs": [
    {
     "name": "stdout",
     "output_type": "stream",
     "text": [
      "..##.#######...##.###...#..#.#.#..#.##.#.##....####..........#..#.######..####.#.#..###.##..##..#..#\n",
      "{'.##..': '#', '.###.': '.', '###.#': '#', '#..##': '.', '.##.#': '#', '...#.': '#', '.#.##': '.', '...##': '.', '##.##': '#', '#....': '.', '####.': '#', '.#..#': '.', '#...#': '#', '#..#.': '.', '.####': '.', '....#': '.', '##...': '.', '..##.': '.', '..###': '#', '..#.#': '#', '##.#.': '.', '.#...': '#', '#.###': '#', '#####': '#', '.#.#.': '.', '##..#': '#', '..#..': '.', '#.#..': '.', '.....': '.', '#.#.#': '.', '###..': '.', '#.##.': '#'}\n"
     ]
    }
   ],
   "source": [
    "print(init)\n",
    "print(conv)"
   ]
  },
  {
   "cell_type": "code",
   "execution_count": null,
   "metadata": {
    "collapsed": true
   },
   "outputs": [],
   "source": []
  },
  {
   "cell_type": "code",
   "execution_count": 4,
   "metadata": {
    "collapsed": false
   },
   "outputs": [
    {
     "name": "stdout",
     "output_type": "stream",
     "text": [
      "2542\n"
     ]
    }
   ],
   "source": [
    "string = \".\" * 22 + init + \".\" * 22\n",
    "\n",
    "for gen in range(20):\n",
    "    new_s = \"\"\n",
    "    for i in range(len(string)-4):\n",
    "        new_s += conv[string[i:i+5]]\n",
    "    #Losing two chars each time\n",
    "    string = \"..\" + new_s + \"..\"\n",
    "\n",
    "tot = 0\n",
    "for cI,c in enumerate(string):\n",
    "    if c==\"#\":\n",
    "        tot+=cI-22\n",
    "print(tot)"
   ]
  },
  {
   "cell_type": "code",
   "execution_count": null,
   "metadata": {
    "collapsed": true
   },
   "outputs": [],
   "source": []
  },
  {
   "cell_type": "code",
   "execution_count": 5,
   "metadata": {
    "collapsed": true
   },
   "outputs": [],
   "source": [
    "from collections import defaultdict"
   ]
  },
  {
   "cell_type": "code",
   "execution_count": 6,
   "metadata": {
    "collapsed": true
   },
   "outputs": [],
   "source": [
    "def get_sum(string,offset):\n",
    "    tot = 0\n",
    "    for cI,c in enumerate(string):\n",
    "        if c==\"#\":\n",
    "            tot+=cI-offset\n",
    "    return tot"
   ]
  },
  {
   "cell_type": "code",
   "execution_count": 7,
   "metadata": {
    "collapsed": false
   },
   "outputs": [
    {
     "name": "stdout",
     "output_type": "stream",
     "text": [
      "{99: 5932, 100: 5983}\n"
     ]
    }
   ],
   "source": [
    "string = \"....\" + init + \"....\"\n",
    "seen_dict = defaultdict(dict)\n",
    "offset = 4\n",
    "iteration = 0\n",
    "\n",
    "while True:\n",
    "    iteration += 1\n",
    "    new_s = \"\"\n",
    "    for i in range(len(string)-4):\n",
    "        new_s += conv[string[i:i+5]]\n",
    "    string = \"....\" + new_s + \"....\"\n",
    "    offset += 2  #Lose 2, but add 2 more above\n",
    "    #See if pattern repeats\n",
    "    tot = get_sum(string, offset)\n",
    "    base_pattern = string.strip(\".\")\n",
    "    seen_dict[base_pattern][iteration] = tot\n",
    "    if len(seen_dict[base_pattern]) > 1:\n",
    "        print(seen_dict[base_pattern])\n",
    "        break"
   ]
  },
  {
   "cell_type": "code",
   "execution_count": 8,
   "metadata": {
    "collapsed": false
   },
   "outputs": [
    {
     "name": "stdout",
     "output_type": "stream",
     "text": [
      "2550000000883\n"
     ]
    }
   ],
   "source": [
    "print(((50000000000-99) * (5983-5932)) + 5932)"
   ]
  },
  {
   "cell_type": "code",
   "execution_count": null,
   "metadata": {
    "collapsed": true
   },
   "outputs": [],
   "source": []
  }
 ],
 "metadata": {
  "kernelspec": {
   "display_name": "Python 3",
   "language": "python",
   "name": "python3"
  },
  "language_info": {
   "codemirror_mode": {
    "name": "ipython",
    "version": 3
   },
   "file_extension": ".py",
   "mimetype": "text/x-python",
   "name": "python",
   "nbconvert_exporter": "python",
   "pygments_lexer": "ipython3",
   "version": "3.5.2"
  }
 },
 "nbformat": 4,
 "nbformat_minor": 2
}
