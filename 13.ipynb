{
 "cells": [
  {
   "cell_type": "code",
   "execution_count": 1,
   "metadata": {
    "collapsed": true
   },
   "outputs": [],
   "source": [
    "with open(\"input13.txt\",\"r\") as f:\n",
    "    data = f.read()"
   ]
  },
  {
   "cell_type": "code",
   "execution_count": 2,
   "metadata": {
    "collapsed": true
   },
   "outputs": [],
   "source": [
    "data = data.split(\"\\n\")[:-1]"
   ]
  },
  {
   "cell_type": "code",
   "execution_count": 3,
   "metadata": {
    "collapsed": true
   },
   "outputs": [],
   "source": [
    "def get_ids():\n",
    "    ids = {}\n",
    "    for rowI,row in enumerate(data):\n",
    "        carInds = [i for i in range(len(row)) if row[i] in [\"^\",\"v\",\">\",\"<\"]]\n",
    "        for i in carInds:\n",
    "            key = \"car{}_{}\".format(rowI,i)\n",
    "            direc = row[i]\n",
    "            ids[key] = {\"loc\":(rowI,i),\"direc\":direc,\"intersec\":0}\n",
    "    return ids"
   ]
  },
  {
   "cell_type": "code",
   "execution_count": 4,
   "metadata": {
    "collapsed": false
   },
   "outputs": [
    {
     "name": "stdout",
     "output_type": "stream",
     "text": [
      "car64_118 {'intersec': 0, 'loc': (64, 118), 'direc': '>'}\n",
      "car68_82 {'intersec': 0, 'loc': (68, 82), 'direc': 'v'}\n",
      "car113_130 {'intersec': 0, 'loc': (113, 130), 'direc': '^'}\n",
      "car134_64 {'intersec': 0, 'loc': (134, 64), 'direc': '<'}\n",
      "car121_12 {'intersec': 0, 'loc': (121, 12), 'direc': 'v'}\n",
      "car101_85 {'intersec': 0, 'loc': (101, 85), 'direc': '<'}\n",
      "car88_80 {'intersec': 0, 'loc': (88, 80), 'direc': '^'}\n",
      "car72_127 {'intersec': 0, 'loc': (72, 127), 'direc': '>'}\n",
      "car47_8 {'intersec': 0, 'loc': (47, 8), 'direc': '>'}\n",
      "car38_5 {'intersec': 0, 'loc': (38, 5), 'direc': 'v'}\n",
      "car132_6 {'intersec': 0, 'loc': (132, 6), 'direc': 'v'}\n",
      "car19_47 {'intersec': 0, 'loc': (19, 47), 'direc': '>'}\n",
      "car84_133 {'intersec': 0, 'loc': (84, 133), 'direc': '>'}\n",
      "car15_25 {'intersec': 0, 'loc': (15, 25), 'direc': '>'}\n",
      "car67_36 {'intersec': 0, 'loc': (67, 36), 'direc': '^'}\n",
      "car13_148 {'intersec': 0, 'loc': (13, 148), 'direc': '^'}\n",
      "car128_94 {'intersec': 0, 'loc': (128, 94), 'direc': '>'}\n"
     ]
    }
   ],
   "source": [
    "ids = get_ids()\n",
    "for key in ids:\n",
    "    print(key,ids[key])"
   ]
  },
  {
   "cell_type": "code",
   "execution_count": null,
   "metadata": {
    "collapsed": true
   },
   "outputs": [],
   "source": []
  },
  {
   "cell_type": "code",
   "execution_count": 5,
   "metadata": {
    "collapsed": true
   },
   "outputs": [],
   "source": [
    "rotation = [\"^\",\">\",\"v\",\"<\"]"
   ]
  },
  {
   "cell_type": "code",
   "execution_count": 6,
   "metadata": {
    "collapsed": true
   },
   "outputs": [],
   "source": [
    "steps = {\"^\":(-1,0),\n",
    "         \">\":(0,1),\n",
    "         \"v\":(1,0),\n",
    "         \"<\":(0,-1)\n",
    "        }"
   ]
  },
  {
   "cell_type": "code",
   "execution_count": 7,
   "metadata": {
    "collapsed": true
   },
   "outputs": [],
   "source": [
    "def get_new_loc(row, col, direc):\n",
    "    move = steps[direc]\n",
    "    row+=move[0]\n",
    "    col+=move[1]\n",
    "    return row, col"
   ]
  },
  {
   "cell_type": "code",
   "execution_count": 8,
   "metadata": {
    "collapsed": false
   },
   "outputs": [],
   "source": [
    "def get_new_direc(direc, intersec, new_map_char):\n",
    "    #Direction will be modified if our character is \\ / or +\n",
    "    if new_map_char == \"+\":\n",
    "        new_intersec = (intersec+1)%3\n",
    "        #Turn left\n",
    "        if intersec==0:\n",
    "            new_direc = rotation[(rotation.index(direc)+3)%4]\n",
    "            return new_direc, new_intersec\n",
    "        #Turn right\n",
    "        elif intersec==2:\n",
    "            new_direc = rotation[(rotation.index(direc)+1)%4]\n",
    "            return new_direc, new_intersec\n",
    "        #Straight\n",
    "        else:\n",
    "            return direc, new_intersec\n",
    "        \n",
    "    elif new_map_char == \"/\":\n",
    "        #If up/down, turn right\n",
    "        #If left/right, turn left\n",
    "        if direc in [\"^\",\"v\"]:\n",
    "            return rotation[(rotation.index(direc)+1)%4], intersec\n",
    "        else:\n",
    "            return rotation[(rotation.index(direc)+3)%4], intersec\n",
    "        \n",
    "    elif new_map_char == \"\\\\\":\n",
    "        if direc in [\"^\",\"v\"]:\n",
    "            return rotation[(rotation.index(direc)+3)%4], intersec\n",
    "        else:\n",
    "            return rotation[(rotation.index(direc)+1)%4], intersec\n",
    "        \n",
    "    #Straight\n",
    "    else:\n",
    "        return direc, intersec\n",
    "    "
   ]
  },
  {
   "cell_type": "code",
   "execution_count": 9,
   "metadata": {
    "collapsed": false
   },
   "outputs": [
    {
     "name": "stdout",
     "output_type": "stream",
     "text": [
      "79 128\n"
     ]
    }
   ],
   "source": [
    "ids = get_ids()\n",
    "loop = True\n",
    "while loop:\n",
    "    locs = [ids[x][\"loc\"] for x in ids]\n",
    "    locs.sort()\n",
    "    for car_loc in locs:\n",
    "        car_key = [x for x in ids if ids[x][\"loc\"]==car_loc][0]\n",
    "        \n",
    "        row,col = ids[car_key][\"loc\"]\n",
    "        intersec = ids[car_key][\"intersec\"]\n",
    "        direc = ids[car_key][\"direc\"]\n",
    "        \n",
    "        #Need to advance one position, then modify direction if necessary\n",
    "        new_row, new_col = get_new_loc(row, col, direc)\n",
    "        \n",
    "        #See if we have a collision\n",
    "        if (new_row, new_col) in [ids[x][\"loc\"] for x in ids]:\n",
    "            print(new_col,new_row)\n",
    "            loop = False\n",
    "            break\n",
    "        \n",
    "        new_map_char = data[new_row][new_col]\n",
    "        new_direc, new_intersec = get_new_direc(direc, intersec, new_map_char)\n",
    "        \n",
    "        ids[car_key][\"loc\"] = (new_row, new_col)\n",
    "        ids[car_key][\"direc\"] = new_direc\n",
    "        ids[car_key][\"intersec\"] = new_intersec"
   ]
  },
  {
   "cell_type": "code",
   "execution_count": null,
   "metadata": {
    "collapsed": true
   },
   "outputs": [],
   "source": []
  },
  {
   "cell_type": "code",
   "execution_count": 10,
   "metadata": {
    "collapsed": false
   },
   "outputs": [
    {
     "name": "stdout",
     "output_type": "stream",
     "text": [
      "(3, 42)\n"
     ]
    }
   ],
   "source": [
    "ids = get_ids()\n",
    "\n",
    "while len(ids)>1:\n",
    "    locs = [ids[x][\"loc\"] for x in ids]\n",
    "    locs.sort()\n",
    "    for car_loc in locs:\n",
    "        car_key = [x for x in ids if ids[x][\"loc\"]==car_loc]\n",
    "        #Car can disappear if we have a collision\n",
    "        if not car_key:\n",
    "            continue\n",
    "        car_key = car_key[0]\n",
    "        \n",
    "        row,col = ids[car_key][\"loc\"]\n",
    "        intersec = ids[car_key][\"intersec\"]\n",
    "        direc = ids[car_key][\"direc\"]\n",
    "        \n",
    "        #Need to advance one position, then modify direction if necessary\n",
    "        new_row, new_col = get_new_loc(row, col, direc)\n",
    "        \n",
    "        #Remove both cars if we have a collision\n",
    "        crash_ids = [x for x in ids if ids[x][\"loc\"]==(new_row, new_col)]\n",
    "        if crash_ids:\n",
    "            del ids[car_key]\n",
    "            del ids[crash_ids[0]]\n",
    "\n",
    "        else:\n",
    "            new_map_char = data[new_row][new_col]\n",
    "            new_direc, new_intersec = get_new_direc(direc, intersec, new_map_char)\n",
    "\n",
    "            ids[car_key][\"loc\"] = (new_row, new_col)\n",
    "            ids[car_key][\"direc\"] = new_direc\n",
    "            ids[car_key][\"intersec\"] = new_intersec\n",
    "print(list(ids.values())[0][\"loc\"][::-1])"
   ]
  },
  {
   "cell_type": "code",
   "execution_count": null,
   "metadata": {
    "collapsed": true
   },
   "outputs": [],
   "source": []
  }
 ],
 "metadata": {
  "kernelspec": {
   "display_name": "Python 3",
   "language": "python",
   "name": "python3"
  },
  "language_info": {
   "codemirror_mode": {
    "name": "ipython",
    "version": 3
   },
   "file_extension": ".py",
   "mimetype": "text/x-python",
   "name": "python",
   "nbconvert_exporter": "python",
   "pygments_lexer": "ipython3",
   "version": "3.5.2"
  }
 },
 "nbformat": 4,
 "nbformat_minor": 2
}
