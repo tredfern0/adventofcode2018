{
 "cells": [
  {
   "cell_type": "code",
   "execution_count": 1,
   "metadata": {
    "collapsed": true
   },
   "outputs": [],
   "source": [
    "with open(\"input22.txt\", \"r\") as f:\n",
    "    f = f.read().strip()\n",
    "data = f.split(\"\\n\")"
   ]
  },
  {
   "cell_type": "code",
   "execution_count": 2,
   "metadata": {},
   "outputs": [
    {
     "name": "stdout",
     "output_type": "stream",
     "text": [
      "['depth: 11394', 'target: 7,701']\n"
     ]
    }
   ],
   "source": [
    "print(data)"
   ]
  },
  {
   "cell_type": "code",
   "execution_count": 3,
   "metadata": {
    "collapsed": true
   },
   "outputs": [],
   "source": [
    "depth = int(data[0].split()[1])\n",
    "target = tuple(map(int,data[1].split()[1].split(\",\")))"
   ]
  },
  {
   "cell_type": "code",
   "execution_count": 4,
   "metadata": {
    "collapsed": true
   },
   "outputs": [],
   "source": [
    "import numpy as np\n",
    "arr = np.zeros((max(target)*2,max(target)*2),dtype=\"int32\")"
   ]
  },
  {
   "cell_type": "code",
   "execution_count": 5,
   "metadata": {},
   "outputs": [],
   "source": [
    "for row in range(arr.shape[0]):\n",
    "    for col in range(arr.shape[1]):\n",
    "        if (row,col)==(0,0) or (col,row)==target:\n",
    "            geologic_index = 0\n",
    "        elif row==0:\n",
    "            geologic_index = col * 16807\n",
    "        elif col==0:\n",
    "            geologic_index = row * 48271\n",
    "        else:\n",
    "            geologic_index = arr[row-1,col] * arr[row,col-1]\n",
    "        erosion = (geologic_index + depth) % 20183\n",
    "        arr[row,col] = erosion"
   ]
  },
  {
   "cell_type": "code",
   "execution_count": 6,
   "metadata": {},
   "outputs": [
    {
     "name": "stdout",
     "output_type": "stream",
     "text": [
      "5637\n"
     ]
    }
   ],
   "source": [
    "arr_types = arr%3\n",
    "print(np.sum(arr_types[:target[1]+1,:target[0]+1]))"
   ]
  },
  {
   "cell_type": "code",
   "execution_count": null,
   "metadata": {
    "collapsed": true
   },
   "outputs": [],
   "source": []
  },
  {
   "cell_type": "code",
   "execution_count": 17,
   "metadata": {},
   "outputs": [
    {
     "name": "stdout",
     "output_type": "stream",
     "text": [
      "{(0, 1): ['gear'], (1, 2): ['nothing'], (0, 0): ['torch', 'gear'], (2, 0): ['torch'], (1, 0): ['gear'], (2, 2): ['torch', 'nothing'], (0, 2): ['torch'], (2, 1): ['nothing'], (1, 1): ['gear', 'nothing']}\n"
     ]
    }
   ],
   "source": [
    "regions = {0:[\"torch\", \"gear\"],\n",
    "           1:[\"gear\", \"nothing\"],\n",
    "           2:[\"torch\", \"nothing\"]\n",
    "        }\n",
    "common_tools = {}\n",
    "for r1 in range(3):\n",
    "    for r2 in range(3):\n",
    "        common = [x for x in regions[r1] if x in regions[r2]]\n",
    "        common_tools[(r1,r2)] = common\n",
    "print(common_tools)"
   ]
  },
  {
   "cell_type": "code",
   "execution_count": 8,
   "metadata": {
    "collapsed": true
   },
   "outputs": [],
   "source": [
    "from collections import defaultdict"
   ]
  },
  {
   "cell_type": "code",
   "execution_count": 19,
   "metadata": {},
   "outputs": [
    {
     "name": "stdout",
     "output_type": "stream",
     "text": [
      "969\n"
     ]
    }
   ],
   "source": [
    "best_times = defaultdict(lambda: {\"torch\":9999999, \"gear\":9999999, \"nothing\":9999999})\n",
    "best_times[(0,0)][\"torch\"] = 0\n",
    "\n",
    "available_locs = {(0,0)}\n",
    "while available_locs:\n",
    "\n",
    "    #Save this each loop so we can halt before filling in entire array\n",
    "    best_time = best_times[target[::-1]][\"torch\"]\n",
    "    \n",
    "    new_locs = set()\n",
    "    \n",
    "    for loc in available_locs:\n",
    "        #Look for cheaper move in current spot\n",
    "        region = arr_types[loc]\n",
    "        tool0, tool1 = regions[region]\n",
    "        \n",
    "        if best_times[loc][tool0] + 7 < best_times[loc][tool1]:\n",
    "            best_times[loc][tool1] = best_times[loc][tool0] + 7\n",
    "            new_locs.add(loc)\n",
    "        if best_times[loc][tool1] + 7 < best_times[loc][tool0]:\n",
    "            best_times[loc][tool0] = best_times[loc][tool1] + 7\n",
    "            new_locs.add(loc)\n",
    "\n",
    "        #Look for cheaper move in surrounding spots\n",
    "        moves = [(loc[0]-1, loc[1]), (loc[0]+1, loc[1]), (loc[0],loc[1]-1), (loc[0],loc[1]+1)]\n",
    "        moves = [x for x in moves if x[0]>=0 and x[0]<arr_types.shape[0] and x[1]>=0 and x[1]<arr_types.shape[1]]\n",
    "        for new_loc in moves:\n",
    "\n",
    "            new_region = arr_types[new_loc]\n",
    "            transition_tools = common_tools[(region, new_region)]\n",
    "            \n",
    "            for t in transition_tools:\n",
    "                if best_times[loc][t] + 1 < best_times[new_loc][t]:\n",
    "                    best_times[new_loc][t] = best_times[loc][t] + 1\n",
    "                    #Only continue if possible improvement on our best time\n",
    "                    if min(best_times[new_loc].values()) < best_time:\n",
    "                        new_locs.add(new_loc)\n",
    "\n",
    "    available_locs = new_locs\n",
    "\n",
    "print(best_time)"
   ]
  },
  {
   "cell_type": "code",
   "execution_count": null,
   "metadata": {
    "collapsed": true
   },
   "outputs": [],
   "source": []
  }
 ],
 "metadata": {
  "kernelspec": {
   "display_name": "Python 3",
   "language": "python",
   "name": "python3"
  },
  "language_info": {
   "codemirror_mode": {
    "name": "ipython",
    "version": 3
   },
   "file_extension": ".py",
   "mimetype": "text/x-python",
   "name": "python",
   "nbconvert_exporter": "python",
   "pygments_lexer": "ipython3",
   "version": "3.5.4"
  }
 },
 "nbformat": 4,
 "nbformat_minor": 2
}
