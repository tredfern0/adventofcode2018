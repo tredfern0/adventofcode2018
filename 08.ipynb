{
 "cells": [
  {
   "cell_type": "code",
   "execution_count": 2,
   "metadata": {
    "collapsed": false
   },
   "outputs": [],
   "source": [
    "with open(\"input08.txt\",\"r\") as f:\n",
    "    data = f.read()"
   ]
  },
  {
   "cell_type": "code",
   "execution_count": 3,
   "metadata": {
    "collapsed": false
   },
   "outputs": [],
   "source": [
    "data = data.split(\" \")\n",
    "data = [int(x.replace(\"\\n\",\"\")) for x in data]"
   ]
  },
  {
   "cell_type": "code",
   "execution_count": 6,
   "metadata": {
    "collapsed": false
   },
   "outputs": [
    {
     "name": "stdout",
     "output_type": "stream",
     "text": [
      "[9, 11, 6, 2]\n"
     ]
    }
   ],
   "source": [
    "print(data[:4])"
   ]
  },
  {
   "cell_type": "code",
   "execution_count": null,
   "metadata": {
    "collapsed": true
   },
   "outputs": [],
   "source": []
  },
  {
   "cell_type": "code",
   "execution_count": 10,
   "metadata": {
    "collapsed": true
   },
   "outputs": [],
   "source": [
    "def get_metasum(curr_list, index):\n",
    "    metasum = 0\n",
    "\n",
    "    children, metadata = curr_list[index:index+2]\n",
    "    index+=2\n",
    "    \n",
    "    for child in range(children):\n",
    "        index, ms = get_metasum(curr_list, index)\n",
    "        metasum += ms\n",
    "\n",
    "    metasum += sum(curr_list[index:index+metadata])\n",
    "    index+=metadata\n",
    "    return index, metasum"
   ]
  },
  {
   "cell_type": "code",
   "execution_count": 11,
   "metadata": {
    "collapsed": false
   },
   "outputs": [
    {
     "name": "stdout",
     "output_type": "stream",
     "text": [
      "46829\n"
     ]
    }
   ],
   "source": [
    "print(get_metasum(data,0)[1])"
   ]
  },
  {
   "cell_type": "code",
   "execution_count": null,
   "metadata": {
    "collapsed": true
   },
   "outputs": [],
   "source": []
  },
  {
   "cell_type": "code",
   "execution_count": 25,
   "metadata": {
    "collapsed": true
   },
   "outputs": [],
   "source": [
    "def get_root_val(curr_list, index):    \n",
    "    value = 0\n",
    "    child_v = {}\n",
    "    \n",
    "    children, metadata = curr_list[index:index+2]\n",
    "    index+=2\n",
    "    \n",
    "    for child in range(children):\n",
    "        index, cval = get_root_val(curr_list, index)\n",
    "        child_v[child] = cval\n",
    "\n",
    "    # If a node has no child nodes, its value is the sum of its metadata entries. \n",
    "    if not children:\n",
    "        value += sum(curr_list[index:index+metadata])\n",
    "    # Else - the metadata entries become indexes which refer to those child nodes. \n",
    "    # A metadata entry of 1 refers to the first child node\n",
    "    else:\n",
    "        # If a referenced child node does not exist, that reference is skipped.\n",
    "        indexes = [curr_list[index+item]-1 for item in range(metadata)]\n",
    "        value += sum([child_v[ind] for ind in indexes if ind<len(child_v)])\n",
    "\n",
    "    index+=metadata\n",
    "    return index, value"
   ]
  },
  {
   "cell_type": "code",
   "execution_count": 26,
   "metadata": {
    "collapsed": false
   },
   "outputs": [
    {
     "name": "stdout",
     "output_type": "stream",
     "text": [
      "37450\n"
     ]
    }
   ],
   "source": [
    "print(get_root_val(data,0)[1])"
   ]
  },
  {
   "cell_type": "code",
   "execution_count": null,
   "metadata": {
    "collapsed": true
   },
   "outputs": [],
   "source": []
  }
 ],
 "metadata": {
  "kernelspec": {
   "display_name": "Python 3",
   "language": "python",
   "name": "python3"
  },
  "language_info": {
   "codemirror_mode": {
    "name": "ipython",
    "version": 3
   },
   "file_extension": ".py",
   "mimetype": "text/x-python",
   "name": "python",
   "nbconvert_exporter": "python",
   "pygments_lexer": "ipython3",
   "version": "3.5.2"
  }
 },
 "nbformat": 4,
 "nbformat_minor": 2
}
