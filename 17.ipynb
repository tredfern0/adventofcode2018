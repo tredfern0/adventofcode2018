{
 "cells": [
  {
   "cell_type": "code",
   "execution_count": 1,
   "metadata": {
    "collapsed": true
   },
   "outputs": [],
   "source": [
    "with open(\"input17.txt\",\"r\") as f:\n",
    "    data = f.read().strip()\n",
    "data = data.split(\"\\n\")"
   ]
  },
  {
   "cell_type": "code",
   "execution_count": 2,
   "metadata": {
    "collapsed": true
   },
   "outputs": [],
   "source": [
    "import re\n",
    "import numpy as np"
   ]
  },
  {
   "cell_type": "code",
   "execution_count": 3,
   "metadata": {
    "collapsed": true
   },
   "outputs": [],
   "source": [
    "def process_lines(data):\n",
    "\n",
    "    lines = []\n",
    "    xvals = []\n",
    "    yvals = []\n",
    "    for line in data:\n",
    "        vals = re.findall(\"x|y|\\d+\",line)\n",
    "        xI= vals.index(\"x\")\n",
    "        yI = vals.index(\"y\")\n",
    "        if xI<yI:\n",
    "            obj = {\"x\":list(map(int,vals[xI+1:yI])),\n",
    "                   \"y\":list(map(int,vals[yI+1:]))}\n",
    "        else:\n",
    "            obj = {\"y\":list(map(int,vals[yI+1:xI])),\n",
    "                   \"x\":list(map(int,vals[xI+1:]))}\n",
    "        xvals += [x for x in obj[\"x\"]]\n",
    "        yvals += [x for x in obj[\"y\"]]\n",
    "        lines.append(obj)\n",
    "        \n",
    "    minx, maxx = min(xvals), max(xvals)\n",
    "    miny, maxy = min(yvals), max(yvals)\n",
    "    \n",
    "    return lines, minx, maxx, miny, maxy\n"
   ]
  },
  {
   "cell_type": "code",
   "execution_count": 4,
   "metadata": {},
   "outputs": [],
   "source": [
    "def make_array(lines, yrange, xrange, minx, miny):\n",
    "    arr = np.zeros((yrange+2,xrange+3))\n",
    "    \n",
    "    for dct in lines:\n",
    "        xr = [x-minx+1 for x in dct[\"x\"]]\n",
    "        yr = [y-miny+1 for y in dct[\"y\"]]\n",
    "\n",
    "        assert (len(xr)==2 or len(yr)==2)\n",
    "\n",
    "        if len(xr)==1:\n",
    "            arr[yr[0]:yr[1]+1,xr[0]] = 1\n",
    "        else:\n",
    "            arr[yr[0],xr[0]:xr[1]+1] = 1\n",
    "    return arr"
   ]
  },
  {
   "cell_type": "code",
   "execution_count": 5,
   "metadata": {
    "collapsed": true
   },
   "outputs": [],
   "source": [
    "def get_data(data):\n",
    "    \n",
    "    lines, minx, maxx, miny, maxy = process_lines(data)\n",
    "    xrange = maxx - minx\n",
    "    yrange = maxy - miny\n",
    "    \n",
    "    arr = make_array(lines, yrange, xrange, minx, miny)\n",
    "    \n",
    "    return arr, 500-minx"
   ]
  },
  {
   "cell_type": "code",
   "execution_count": 11,
   "metadata": {
    "collapsed": true
   },
   "outputs": [],
   "source": [
    "def pwrite(arr):\n",
    "    wf = []\n",
    "    for row in arr:\n",
    "        #print(len(row))\n",
    "        pprint = \"\"\n",
    "        for val in row:\n",
    "            if val==0:\n",
    "                pprint += \".\"\n",
    "            elif val==1:\n",
    "                pprint += \"#\"\n",
    "            elif val==2:\n",
    "                pprint += \"~\"\n",
    "            elif val==3:\n",
    "                pprint += \"|\"\n",
    "        wf.append(pprint)\n",
    "    with open(\"output17.txt\",\"w\") as f:\n",
    "        f.write(\"\\n\".join(wf))"
   ]
  },
  {
   "cell_type": "code",
   "execution_count": 12,
   "metadata": {},
   "outputs": [],
   "source": [
    "def pprint(arr):\n",
    "    for row in arr:\n",
    "        pprint = \"\"\n",
    "        for val in row:\n",
    "            if val==0:\n",
    "                pprint += \".\"\n",
    "            elif val==1:\n",
    "                pprint += \"#\"\n",
    "            elif val==2:\n",
    "                pprint += \"~\"\n",
    "            elif val==3:\n",
    "                pprint += \"|\"\n",
    "        print(pprint)\n"
   ]
  },
  {
   "cell_type": "code",
   "execution_count": 7,
   "metadata": {},
   "outputs": [],
   "source": [
    "def drip_down(arr,r,c):\n",
    "    \"\"\"\n",
    "    Takes in r,c of | over .\n",
    "    Drip down until we hit bottom of array, #, or ~\n",
    "    \"\"\"\n",
    "    while r+1<arr.shape[0] and arr[r+1,c]==0:\n",
    "        r+=1\n",
    "        arr[r,c]=3\n",
    "    return arr"
   ]
  },
  {
   "cell_type": "code",
   "execution_count": 8,
   "metadata": {
    "collapsed": true
   },
   "outputs": [],
   "source": [
    "def drip_across(arr,r,c_):\n",
    "    \"\"\"\n",
    "    Takes in r,c of | over # or ~\n",
    "    Drip across until we hit a solid, or are over .\n",
    "    After dripping across, check to see if we have a solid\n",
    "    \"\"\"\n",
    "    dripped = False\n",
    "    \n",
    "    cl = c_\n",
    "    #left\n",
    "    while cl>0 and arr[r,cl-1] in [0,3] and arr[r+1,cl] in [1,2]:\n",
    "        cl-=1\n",
    "        if arr[r,cl] != 3:\n",
    "            arr[r,cl] = 3\n",
    "            dripped = True\n",
    "    left_wall = arr[r,cl-1]==1\n",
    "    \n",
    "    cr = c_\n",
    "    #right\n",
    "    while cr<arr.shape[1] and arr[r,cr+1] in [0,3] and arr[r+1,cr] in [1,2]:\n",
    "        cr+=1\n",
    "        if arr[r,cr] != 3:\n",
    "            arr[r,cr] = 3\n",
    "            dripped = True\n",
    "    right_wall = arr[r,cr+1]==1\n",
    "        \n",
    "    #If bookended by walls, change to \"solid\"\n",
    "    if left_wall and right_wall:\n",
    "        arr[r,cl:cr+1]=2\n",
    "        dripped = True\n",
    "        \n",
    "    return arr, dripped\n",
    "    "
   ]
  },
  {
   "cell_type": "code",
   "execution_count": null,
   "metadata": {
    "collapsed": true
   },
   "outputs": [],
   "source": []
  },
  {
   "cell_type": "code",
   "execution_count": 9,
   "metadata": {},
   "outputs": [
    {
     "name": "stdout",
     "output_type": "stream",
     "text": [
      "30384\n"
     ]
    }
   ],
   "source": [
    "arr, x_start = get_data(data)\n",
    "arr[0,x_start] = 3\n",
    "\n",
    "r = 0\n",
    "while r<arr.shape[0]-1:\n",
    "    dripped = False\n",
    "\n",
    "    for c in range(arr.shape[1]):\n",
    "        #Drip down\n",
    "        if arr[r,c]==3 and arr[r+1,c]==0:\n",
    "            arr = drip_down(arr, r,c)\n",
    "        #Drip across - if we dripped across we also need to decrement our row index by 1\n",
    "        if arr[r,c]==3 and arr[r+1,c] in [1,2]:\n",
    "            arr, dripped_ = drip_across(arr, r,c)\n",
    "            if dripped_:\n",
    "                dripped = True\n",
    "                \n",
    "    if dripped:\n",
    "        r-=1\n",
    "    else:\n",
    "        r+=1\n",
    "\n",
    "sum_reservoir = np.sum(arr[1:,]==2)\n",
    "sum_drips = np.sum(arr[1:,]==3)\n",
    "print(sum_reservoir+sum_drips)"
   ]
  },
  {
   "cell_type": "code",
   "execution_count": null,
   "metadata": {
    "collapsed": true
   },
   "outputs": [],
   "source": []
  },
  {
   "cell_type": "code",
   "execution_count": 10,
   "metadata": {},
   "outputs": [
    {
     "name": "stdout",
     "output_type": "stream",
     "text": [
      "24479\n"
     ]
    }
   ],
   "source": [
    "print(sum_reservoir)"
   ]
  },
  {
   "cell_type": "code",
   "execution_count": null,
   "metadata": {
    "collapsed": true
   },
   "outputs": [],
   "source": []
  }
 ],
 "metadata": {
  "kernelspec": {
   "display_name": "Python 3",
   "language": "python",
   "name": "python3"
  },
  "language_info": {
   "codemirror_mode": {
    "name": "ipython",
    "version": 3
   },
   "file_extension": ".py",
   "mimetype": "text/x-python",
   "name": "python",
   "nbconvert_exporter": "python",
   "pygments_lexer": "ipython3",
   "version": "3.5.4"
  }
 },
 "nbformat": 4,
 "nbformat_minor": 2
}
