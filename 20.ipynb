{
 "cells": [
  {
   "cell_type": "code",
   "execution_count": 1,
   "metadata": {
    "collapsed": true
   },
   "outputs": [],
   "source": [
    "def get_data():\n",
    "    with open(\"input20.txt\", \"r\") as f:\n",
    "        f = f.read().strip()\n",
    "    return f.replace(\"^\",\"\").replace(\"$\",\"\")"
   ]
  },
  {
   "cell_type": "code",
   "execution_count": 2,
   "metadata": {
    "collapsed": true
   },
   "outputs": [],
   "source": [
    "def move(coords, d):\n",
    "    if d==\"N\":\n",
    "        return coords[0]+2, coords[1]\n",
    "    if d==\"S\":\n",
    "        return coords[0]-2, coords[1]\n",
    "    if d==\"E\":\n",
    "        return coords[0], coords[1]-2\n",
    "    if d==\"W\":\n",
    "        return coords[0], coords[1]+2"
   ]
  },
  {
   "cell_type": "code",
   "execution_count": 3,
   "metadata": {
    "collapsed": true
   },
   "outputs": [],
   "source": [
    "def explore(data, i, coords, distance):\n",
    "\n",
    "    start_distance = distance\n",
    "    start_coords = coords\n",
    "\n",
    "    while i<len(data):\n",
    "        char = data[i]\n",
    "        if char==\")\":\n",
    "            return i\n",
    "        \n",
    "        elif char==\"(\":\n",
    "            i = explore(data, i+1, coords, distance)\n",
    "            \n",
    "        elif char==\"|\":\n",
    "            distance = start_distance\n",
    "            coords = start_coords\n",
    "            \n",
    "        elif char in [\"N\",\"S\",\"E\",\"W\"]:\n",
    "            coords = move(coords, char)\n",
    "            distance += 1\n",
    "            distances[coords] = min(distances.get(coords,float(\"inf\")),distance)\n",
    "\n",
    "        i+=1\n",
    "        \n",
    "    return i"
   ]
  },
  {
   "cell_type": "code",
   "execution_count": null,
   "metadata": {
    "collapsed": true
   },
   "outputs": [],
   "source": []
  },
  {
   "cell_type": "code",
   "execution_count": 10,
   "metadata": {},
   "outputs": [
    {
     "name": "stdout",
     "output_type": "stream",
     "text": [
      "3755\n",
      "8627\n"
     ]
    }
   ],
   "source": [
    "d1 = \"ENWWW(NEEE|SSE(EE|N))\"\n",
    "d2 = \"ENNWSWW(NEWS|)SSSEEN(WNSE|)EE(SWEN|)NNN)\"\n",
    "d3 = \"ESSWWN(E|NNENN(EESS(WNSE|)SSS|WWWSSSSE(SW|NNNE)))\"\n",
    "d4 = \"WSSEESWWWNW(S|NENNEEEENN(ESSSSW(NWSW|SSEN)|WSWWN(E|WWS(E|SS))))\"\n",
    "distances = {}\n",
    "_=explore(d1,0, (0,0), 0)\n",
    "assert max(distances.values()) == 10\n",
    "distances = {}\n",
    "_=explore(d2,0, (0,0), 0)\n",
    "assert max(distances.values()) == 18\n",
    "distances = {}\n",
    "_=explore(d3,0, (0,0), 0)\n",
    "assert max(distances.values()) == 23\n",
    "distances = {}\n",
    "_=explore(d4,0, (0,0), 0)\n",
    "assert max(distances.values()) == 31a\n",
    "\n",
    "distances = {}\n",
    "data = get_data()\n",
    "_=explore(data,0, (0,0), 0)\n",
    "print(max(distances.values()))\n",
    "print(len([x for x in distances if distances[x]>=1000]))"
   ]
  },
  {
   "cell_type": "code",
   "execution_count": null,
   "metadata": {
    "collapsed": true
   },
   "outputs": [],
   "source": []
  }
 ],
 "metadata": {
  "kernelspec": {
   "display_name": "Python 3",
   "language": "python",
   "name": "python3"
  },
  "language_info": {
   "codemirror_mode": {
    "name": "ipython",
    "version": 3
   },
   "file_extension": ".py",
   "mimetype": "text/x-python",
   "name": "python",
   "nbconvert_exporter": "python",
   "pygments_lexer": "ipython3",
   "version": "3.5.4"
  }
 },
 "nbformat": 4,
 "nbformat_minor": 2
}
