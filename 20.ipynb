{
 "cells": [
  {
   "cell_type": "code",
   "execution_count": 1,
   "metadata": {
    "collapsed": true
   },
   "outputs": [],
   "source": [
    "def get_data():\n",
    "    with open(\"input20.txt\", \"r\") as f:\n",
    "        f = f.read().strip()\n",
    "    return f.replace(\"^\",\"\").replace(\"$\",\"\")"
   ]
  },
  {
   "cell_type": "code",
   "execution_count": 2,
   "metadata": {
    "collapsed": true
   },
   "outputs": [],
   "source": [
    "def move(coords, d):\n",
    "    if d==\"N\":\n",
    "        return coords[0]+2, coords[1]\n",
    "    if d==\"S\":\n",
    "        return coords[0]-2, coords[1]\n",
    "    if d==\"E\":\n",
    "        return coords[0], coords[1]-2\n",
    "    if d==\"W\":\n",
    "        return coords[0], coords[1]+2"
   ]
  },
  {
   "cell_type": "code",
   "execution_count": 3,
   "metadata": {
    "collapsed": true
   },
   "outputs": [],
   "source": [
    "def explore(data, i, coords, distance):\n",
    "\n",
    "    start_distance = distance\n",
    "    start_coords = coords\n",
    "\n",
    "    while i<len(data):\n",
    "        char = data[i]\n",
    "        if char==\")\":\n",
    "            return i\n",
    "        \n",
    "        elif char==\"(\":\n",
    "            i = explore(data, i+1, coords, distance)\n",
    "            \n",
    "        elif char==\"|\":\n",
    "            distance = start_distance\n",
    "            coords = start_coords\n",
    "            \n",
    "        elif char in [\"N\",\"S\",\"E\",\"W\"]:\n",
    "            new_coords = move(coords, char)\n",
    "            adjacency[new_coords].add(coords)\n",
    "            adjacency[coords].add(new_coords)\n",
    "            coords = new_coords\n",
    "            \n",
    "        i+=1\n",
    "        \n",
    "    return i"
   ]
  },
  {
   "cell_type": "code",
   "execution_count": 5,
   "metadata": {
    "collapsed": true
   },
   "outputs": [],
   "source": [
    "from collections import defaultdict"
   ]
  },
  {
   "cell_type": "code",
   "execution_count": 6,
   "metadata": {},
   "outputs": [],
   "source": [
    "adjacency = defaultdict(set)\n",
    "data = get_data()\n",
    "_=explore(data, 0, (0,0), 0)"
   ]
  },
  {
   "cell_type": "code",
   "execution_count": 7,
   "metadata": {
    "collapsed": true
   },
   "outputs": [],
   "source": [
    "distances = {}\n",
    "loop = [(0,0)]\n",
    "i=0\n",
    "while len(distances)<len(adjacency):\n",
    "    next_loop = []\n",
    "    for coords in loop:\n",
    "        distances[coords] = i\n",
    "        next_loop += [c for c in adjacency[coords]]\n",
    "        \n",
    "    loop = [x for x in set(next_loop) if x not in distances]\n",
    "    i+=1"
   ]
  },
  {
   "cell_type": "code",
   "execution_count": 8,
   "metadata": {},
   "outputs": [
    {
     "name": "stdout",
     "output_type": "stream",
     "text": [
      "3755\n",
      "8627\n"
     ]
    }
   ],
   "source": [
    "print(max(distances.values()))\n",
    "print(len([x for x in distances if distances[x]>=1000]))"
   ]
  },
  {
   "cell_type": "code",
   "execution_count": null,
   "metadata": {
    "collapsed": true
   },
   "outputs": [],
   "source": []
  }
 ],
 "metadata": {
  "kernelspec": {
   "display_name": "Python 3",
   "language": "python",
   "name": "python3"
  },
  "language_info": {
   "codemirror_mode": {
    "name": "ipython",
    "version": 3
   },
   "file_extension": ".py",
   "mimetype": "text/x-python",
   "name": "python",
   "nbconvert_exporter": "python",
   "pygments_lexer": "ipython3",
   "version": "3.5.4"
  }
 },
 "nbformat": 4,
 "nbformat_minor": 2
}
