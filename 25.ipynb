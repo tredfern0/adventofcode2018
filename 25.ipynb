{
 "cells": [
  {
   "cell_type": "code",
   "execution_count": 1,
   "metadata": {
    "collapsed": true
   },
   "outputs": [],
   "source": [
    "with open(\"input25.txt\",\"r\") as f:\n",
    "    data = f.read().strip().split(\"\\n\")"
   ]
  },
  {
   "cell_type": "code",
   "execution_count": 2,
   "metadata": {
    "collapsed": true
   },
   "outputs": [],
   "source": [
    "import re"
   ]
  },
  {
   "cell_type": "code",
   "execution_count": 3,
   "metadata": {
    "collapsed": true
   },
   "outputs": [],
   "source": [
    "data = [list(map(int,re.findall(\"-?\\d+\",x))) for x in data]"
   ]
  },
  {
   "cell_type": "code",
   "execution_count": null,
   "metadata": {
    "collapsed": true
   },
   "outputs": [],
   "source": []
  },
  {
   "cell_type": "code",
   "execution_count": 4,
   "metadata": {
    "collapsed": true
   },
   "outputs": [],
   "source": [
    "def get_distance(r1,r2):\n",
    "    dif = 0\n",
    "    for i in range(len(r1)):\n",
    "        dif+=abs(r1[i]-r2[i])\n",
    "    return dif"
   ]
  },
  {
   "cell_type": "code",
   "execution_count": 5,
   "metadata": {},
   "outputs": [
    {
     "name": "stdout",
     "output_type": "stream",
     "text": [
      "327\n"
     ]
    }
   ],
   "source": [
    "constellations = 0\n",
    "seen = set()\n",
    "i = 0\n",
    "while i<len(data):\n",
    "    if i in seen:\n",
    "        i+=1\n",
    "        continue\n",
    " \n",
    "    edges = {i}\n",
    "    \n",
    "    while edges:\n",
    "        new_edges = set()\n",
    "        for e in edges:                \n",
    "            for j in [x for x in range(len(data)) if x not in seen]:\n",
    "                dist = get_distance(data[e],data[j])\n",
    "                if dist<=3:\n",
    "                    new_edges.add(j)\n",
    "                    seen.add(j)\n",
    "        edges = new_edges\n",
    "\n",
    "    constellations+=1\n",
    "    i+=1\n",
    "print(constellations)"
   ]
  },
  {
   "cell_type": "code",
   "execution_count": null,
   "metadata": {
    "collapsed": true
   },
   "outputs": [],
   "source": []
  }
 ],
 "metadata": {
  "kernelspec": {
   "display_name": "Python 3",
   "language": "python",
   "name": "python3"
  },
  "language_info": {
   "codemirror_mode": {
    "name": "ipython",
    "version": 3
   },
   "file_extension": ".py",
   "mimetype": "text/x-python",
   "name": "python",
   "nbconvert_exporter": "python",
   "pygments_lexer": "ipython3",
   "version": "3.5.4"
  }
 },
 "nbformat": 4,
 "nbformat_minor": 2
}
