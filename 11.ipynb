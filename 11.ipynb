{
 "cells": [
  {
   "cell_type": "code",
   "execution_count": 1,
   "metadata": {
    "collapsed": true
   },
   "outputs": [],
   "source": [
    "import numpy as np"
   ]
  },
  {
   "cell_type": "code",
   "execution_count": 2,
   "metadata": {
    "collapsed": true
   },
   "outputs": [],
   "source": [
    "serial = 9110\n",
    "\n",
    "arr = np.zeros((300,300))\n",
    "for x in range(1,301):\n",
    "    for y in range(1,301):\n",
    "        rackId = x + 10\n",
    "        power = rackId * y\n",
    "        power += serial\n",
    "        power *= rackId\n",
    "        try:\n",
    "            power = int(str(power)[-3])\n",
    "        except IndexError:\n",
    "            power = 0\n",
    "        power -= 5\n",
    "        arr[x-1,y-1] = power"
   ]
  },
  {
   "cell_type": "code",
   "execution_count": 3,
   "metadata": {
    "collapsed": false
   },
   "outputs": [
    {
     "name": "stdout",
     "output_type": "stream",
     "text": [
      "(21, 13)\n"
     ]
    }
   ],
   "source": [
    "max_power = float(\"-inf\")\n",
    "coords = None\n",
    "for x in range(297):\n",
    "    for y in range(297):\n",
    "        pwr = arr[x:x+3,y:y+3].sum()\n",
    "        if pwr > max_power:\n",
    "            max_power = pwr\n",
    "            coords = (x+1,y+1)\n",
    "print(coords)"
   ]
  },
  {
   "cell_type": "code",
   "execution_count": null,
   "metadata": {
    "collapsed": true
   },
   "outputs": [],
   "source": []
  },
  {
   "cell_type": "code",
   "execution_count": 4,
   "metadata": {
    "collapsed": false
   },
   "outputs": [
    {
     "name": "stdout",
     "output_type": "stream",
     "text": [
      "(235, 268, 13)\n"
     ]
    }
   ],
   "source": [
    "max_power = float(\"-inf\")\n",
    "coords = None\n",
    "for x in range(297):\n",
    "    for y in range(297):\n",
    "        max_xy = max(x,y)\n",
    "        for size in range(3,297-max_xy):\n",
    "            pwr = arr[x:x+size,y:y+size].sum()\n",
    "            if pwr > max_power:\n",
    "                max_power = pwr\n",
    "                coords = (x+1, y+1, size)\n",
    "print(coords)"
   ]
  },
  {
   "cell_type": "code",
   "execution_count": null,
   "metadata": {
    "collapsed": true
   },
   "outputs": [],
   "source": []
  }
 ],
 "metadata": {
  "kernelspec": {
   "display_name": "Python 3",
   "language": "python",
   "name": "python3"
  },
  "language_info": {
   "codemirror_mode": {
    "name": "ipython",
    "version": 3
   },
   "file_extension": ".py",
   "mimetype": "text/x-python",
   "name": "python",
   "nbconvert_exporter": "python",
   "pygments_lexer": "ipython3",
   "version": "3.5.2"
  }
 },
 "nbformat": 4,
 "nbformat_minor": 2
}
