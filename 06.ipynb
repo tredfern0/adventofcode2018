{
 "cells": [
  {
   "cell_type": "code",
   "execution_count": 1,
   "metadata": {
    "collapsed": true
   },
   "outputs": [],
   "source": [
    "with open(\"input06.txt\",\"r\") as f:\n",
    "    data = f.read()"
   ]
  },
  {
   "cell_type": "code",
   "execution_count": 2,
   "metadata": {
    "collapsed": true
   },
   "outputs": [],
   "source": [
    "data = data.split(\"\\n\")[:-1]"
   ]
  },
  {
   "cell_type": "code",
   "execution_count": 3,
   "metadata": {
    "collapsed": false
   },
   "outputs": [
    {
     "name": "stdout",
     "output_type": "stream",
     "text": [
      "['81, 157', '209, 355', '111, 78', '179, 211']\n"
     ]
    }
   ],
   "source": [
    "print(data[:4])"
   ]
  },
  {
   "cell_type": "code",
   "execution_count": null,
   "metadata": {
    "collapsed": true
   },
   "outputs": [],
   "source": []
  },
  {
   "cell_type": "code",
   "execution_count": 4,
   "metadata": {
    "collapsed": true
   },
   "outputs": [],
   "source": [
    "coords = [[int(y) for y in x.split(\", \")] for x in data]"
   ]
  },
  {
   "cell_type": "code",
   "execution_count": 5,
   "metadata": {
    "collapsed": false
   },
   "outputs": [],
   "source": [
    "x_max, y_max = max([x[0] for x in coords]), max([x[1] for x in coords])"
   ]
  },
  {
   "cell_type": "code",
   "execution_count": 6,
   "metadata": {
    "collapsed": true
   },
   "outputs": [],
   "source": [
    "import numpy as np\n",
    "arr = np.zeros((len(coords),x_max,y_max))"
   ]
  },
  {
   "cell_type": "code",
   "execution_count": 7,
   "metadata": {
    "collapsed": true
   },
   "outputs": [],
   "source": [
    "for ci, c in enumerate(coords):\n",
    "    x_diff = np.abs(np.arange(x_max) - c[0])\n",
    "    y_diff = np.abs(np.arange(y_max) - c[1])\n",
    "    arr[ci,::]+=x_diff[np.newaxis].T\n",
    "    arr[ci,::]+=y_diff"
   ]
  },
  {
   "cell_type": "code",
   "execution_count": 8,
   "metadata": {
    "collapsed": true
   },
   "outputs": [],
   "source": [
    "min_vals = np.amin(arr,axis=0)\n",
    "min_indices = np.zeros_like(min_vals)\n",
    "for i in range(x_max):\n",
    "    for j in range(y_max):\n",
    "        slc = arr[:,i,j]\n",
    "        #Doesn't count if it's equidistant from two points\n",
    "        if (slc==min_vals[i,j]).sum() > 1:\n",
    "            min_indices[i,j]=-1\n",
    "        else:\n",
    "            min_indices[i,j]=np.argmin(slc)"
   ]
  },
  {
   "cell_type": "code",
   "execution_count": 9,
   "metadata": {
    "collapsed": true
   },
   "outputs": [],
   "source": [
    "#Need to ignore all indices along edges\n",
    "ignore = set(min_indices[0,]).union(set(min_indices[-1,])).union(set(min_indices[:,0])).union(set(min_indices[:,-1]))\n",
    "search = [i for i in range(len(coords)) if i not in [int(x) for x in ignore]]"
   ]
  },
  {
   "cell_type": "code",
   "execution_count": 10,
   "metadata": {
    "collapsed": false
   },
   "outputs": [
    {
     "name": "stdout",
     "output_type": "stream",
     "text": [
      "3890\n"
     ]
    }
   ],
   "source": [
    "print(max([(min_indices==x).sum() for x in search]))"
   ]
  },
  {
   "cell_type": "code",
   "execution_count": null,
   "metadata": {
    "collapsed": true
   },
   "outputs": [],
   "source": []
  },
  {
   "cell_type": "code",
   "execution_count": 11,
   "metadata": {
    "collapsed": false
   },
   "outputs": [
    {
     "name": "stdout",
     "output_type": "stream",
     "text": [
      "False 40284\n"
     ]
    }
   ],
   "source": [
    "dist_sum = np.sum(arr,axis=0)\n",
    "#If any of the edges are < 10000 we'll need to extend array\n",
    "edge_ck = (dist_sum[0,]<10000).sum() + (dist_sum[-1,]<10000).sum() + (dist_sum[:,0]<10000).sum() + (dist_sum[:,-1]<10000).sum()\n",
    "print(edge_ck>0, (dist_sum<10000).sum())"
   ]
  },
  {
   "cell_type": "code",
   "execution_count": null,
   "metadata": {
    "collapsed": true
   },
   "outputs": [],
   "source": []
  }
 ],
 "metadata": {
  "kernelspec": {
   "display_name": "Python 3",
   "language": "python",
   "name": "python3"
  },
  "language_info": {
   "codemirror_mode": {
    "name": "ipython",
    "version": 3
   },
   "file_extension": ".py",
   "mimetype": "text/x-python",
   "name": "python",
   "nbconvert_exporter": "python",
   "pygments_lexer": "ipython3",
   "version": "3.5.2"
  }
 },
 "nbformat": 4,
 "nbformat_minor": 2
}
